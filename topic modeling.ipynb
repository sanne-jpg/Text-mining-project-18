{
 "cells": [
  {
   "cell_type": "code",
   "execution_count": 1,
   "id": "f286e1c5",
   "metadata": {},
   "outputs": [
    {
     "name": "stdout",
     "output_type": "stream",
     "text": [
      "                                                  Lyric  index\n",
      "0     thought i'd end up with sean but he wasn't a m...      0\n",
      "1     yeah breakfast at tiffany's and bottles of bub...      1\n",
      "2     you you love it how i move you you love it how...      2\n",
      "3     ariana grande  nicki minaj i've been here all ...      3\n",
      "4     right now i'm in a state of mind i wanna be in...      4\n",
      "...                                                 ...    ...\n",
      "5398  it's strange to think the songs we used to sin...   5398\n",
      "5399  drew looks at me i fake a smile so he won't se...   5399\n",
      "5400  to put it plainly we just couldnt stop writing...   5400\n",
      "5401  turn wycd on you're on your grunwald back from...   5401\n",
      "5402  trying just like they say just taking the step...   5402\n",
      "\n",
      "[5403 rows x 2 columns]\n"
     ]
    },
    {
     "name": "stderr",
     "output_type": "stream",
     "text": [
      "C:\\Users\\GEBRUI~1\\AppData\\Local\\Temp/ipykernel_16260/3686151612.py:16: SettingWithCopyWarning: \n",
      "A value is trying to be set on a copy of a slice from a DataFrame.\n",
      "Try using .loc[row_indexer,col_indexer] = value instead\n",
      "\n",
      "See the caveats in the documentation: https://pandas.pydata.org/pandas-docs/stable/user_guide/indexing.html#returning-a-view-versus-a-copy\n",
      "  data_text['index'] = data_text.index\n"
     ]
    }
   ],
   "source": [
    "import pandas as pd\n",
    "import glob\n",
    "\n",
    "### Open all csv files, and create a dataframe containing only the lyrics \n",
    "path = \"song-lyrics-dataset/csv/\"\n",
    "all_files = glob.glob(path + \"*.csv\")\n",
    "\n",
    "data = []\n",
    "for filename in all_files:\n",
    "    df = pd.read_csv(filename, index_col=None, header=0)\n",
    "    data.append(df)  \n",
    "\n",
    "df = pd.concat(data, axis=0, ignore_index=True)\n",
    "data_text = df[['Lyric']]\n",
    "\n",
    "data_text['index'] = data_text.index\n",
    "documents = data_text\n",
    "print(documents)\n"
   ]
  },
  {
   "cell_type": "code",
   "execution_count": 2,
   "id": "a516fc7e",
   "metadata": {},
   "outputs": [
    {
     "name": "stdout",
     "output_type": "stream",
     "text": [
      "5403\n",
      "                                               Lyric  index\n",
      "0  thought i'd end up with sean but he wasn't a m...      0\n",
      "1  yeah breakfast at tiffany's and bottles of bub...      1\n",
      "2  you you love it how i move you you love it how...      2\n",
      "3  ariana grande  nicki minaj i've been here all ...      3\n",
      "4  right now i'm in a state of mind i wanna be in...      4\n"
     ]
    }
   ],
   "source": [
    "print(len(documents))\n",
    "print(documents[:5])"
   ]
  },
  {
   "cell_type": "code",
   "execution_count": 3,
   "id": "985ff14a",
   "metadata": {},
   "outputs": [
    {
     "name": "stderr",
     "output_type": "stream",
     "text": [
      "[nltk_data] Downloading package wordnet to\n",
      "[nltk_data]     C:\\Users\\Gebruiker\\AppData\\Roaming\\nltk_data...\n",
      "[nltk_data]   Package wordnet is already up-to-date!\n"
     ]
    }
   ],
   "source": [
    "import gensim\n",
    "from gensim.utils import simple_preprocess\n",
    "from gensim.parsing.preprocessing import STOPWORDS\n",
    "from nltk.stem import WordNetLemmatizer, SnowballStemmer\n",
    "from nltk.stem.porter import *\n",
    "import numpy as np\n",
    "np.random.seed(2018)\n",
    "import nltk\n",
    "nltk.download('wordnet')\n",
    "from nltk import pos_tag\n",
    "\n",
    "lemmatizer = WordNetLemmatizer()\n",
    "my_stop_words = STOPWORDS.union(set(['yeah', 'cause', 'wanna', 'gonna', 'nigga', 'fuckin', 'bitch', 'come']))\n"
   ]
  },
  {
   "cell_type": "code",
   "execution_count": 4,
   "id": "745ac946",
   "metadata": {},
   "outputs": [],
   "source": [
    "def lemmatize_stemming(text):\n",
    "    return lemmatizer.lemmatize(text)\n",
    "def preprocess(text):\n",
    "    result = []\n",
    "    for token in gensim.utils.simple_preprocess(text):\n",
    "        if token not in my_stop_words and len(token) > 3:\n",
    "           # result.append(token)\n",
    "            result.append(lemmatize_stemming(token))\n",
    "    return result"
   ]
  },
  {
   "cell_type": "code",
   "execution_count": 5,
   "id": "831fb188",
   "metadata": {},
   "outputs": [
    {
     "name": "stdout",
     "output_type": "stream",
     "text": [
      "original document: \n",
      "['yeah', 'breakfast', 'at', \"tiffany's\", 'and', 'bottles', 'of', 'bubbles', 'girls', 'with', 'tattoos', 'who', 'like', 'getting', 'in', 'trouble', 'lashes', 'and', 'diamonds', 'atm', 'machines', 'buy', 'myself', 'all', 'of', 'my', 'favorite', 'things', 'yeah', 'been', 'through', 'some', 'bad', 'shit', 'i', 'should', 'be', 'a', 'sad', 'bitch', 'who', 'woulda', 'thought', \"it'd\", 'turn', 'me', 'to', 'a', 'savage', 'rather', 'be', 'tied', 'up', 'with', 'calls', 'and', 'not', 'strings', 'write', 'my', 'own', 'checks', 'like', 'i', 'write', 'what', 'i', 'sing', 'yeah', 'yeah', '', 'pre', 'my', 'wrist', 'stop', \"watchin'\", 'my', 'neck', 'is', 'flossy', 'make', 'big', 'deposits', 'my', 'gloss', 'is', \"poppin'\", 'you', 'like', 'my', 'hair', 'gee', 'thanks', 'just', 'bought', 'it', 'i', 'see', 'it', 'i', 'like', 'it', 'i', 'want', 'it', 'i', 'got', 'it', 'yeah', '', '', 'i', 'want', 'it', 'i', 'got', 'it', 'i', 'want', 'it', 'i', 'got', 'it', 'i', 'want', 'it', 'i', 'got', 'it', 'i', 'want', 'it', 'i', 'got', 'it', 'you', 'like', 'my', 'hair', 'gee', 'thanks', 'just', 'bought', 'it', 'i', 'see', 'it', 'i', 'like', 'it', 'i', 'want', 'it', 'i', 'got', 'it', 'yep', '', '', 'wearing', 'a', 'ring', 'but', \"ain't\", \"gon'\", 'be', 'no', 'mrs', 'bought', 'matching', 'diamonds', 'for', 'six', 'of', 'my', 'bitches', \"i'd\", 'rather', 'spoil', 'all', 'my', 'friends', 'with', 'my', 'riches', 'think', 'retail', 'therapy', 'my', 'new', 'addiction', 'whoever', 'said', 'money', \"can't\", 'solve', 'your', 'problems', 'must', 'not', 'have', 'had', 'enough', 'money', 'to', 'solve', \"'em\", 'they', 'say', 'which', 'one', 'i', 'say', 'nah', 'i', 'want', 'all', 'of', \"'em\", 'happiness', 'is', 'the', 'same', 'price', 'as', 'redbottoms', '', 'pre', 'my', 'smile', 'is', \"beamin'\", 'yeah', 'my', 'skin', 'is', \"gleamin'\", 'is', \"gleamin'\", 'the', 'way', 'it', 'shine', 'i', 'know', \"you've\", 'seen', 'it', \"you've\", 'seen', 'it', 'i', 'bought', 'a', 'crib', 'just', 'for', 'just', 'for', 'the', 'closet', 'closet', 'both', 'his', 'and', 'hers', 'i', 'want', 'it', 'i', 'got', 'it', 'yeah', '', '', 'i', 'want', 'it', 'i', 'got', 'it', 'i', 'want', 'it', 'i', 'got', 'it', 'i', 'want', 'it', 'i', 'got', 'it', 'i', 'want', 'it', 'i', 'got', 'it', 'baby', 'you', 'like', 'my', 'hair', 'gee', 'thanks', 'just', 'bought', 'it', 'oh', 'yeah', 'i', 'see', 'it', 'i', 'like', 'it', 'i', 'want', 'it', 'i', 'got', 'it', 'yep', '', '', 'yeah', 'my', 'receipts', 'be', \"lookin'\", 'like', 'phone', 'numbers', 'if', 'it', \"ain't\", 'money', 'then', 'wrong', 'number', 'black', 'card', 'is', 'my', 'business', 'card', 'the', 'way', 'it', 'be', \"settin'\", 'the', 'tone', 'for', 'me', 'i', \"don't\", 'mean', 'to', 'brag', 'but', 'i', 'be', 'like', 'put', 'it', 'in', 'the', 'bag', 'yeah', 'when', 'you', 'see', 'them', 'racks', 'they', 'stacked', 'up', 'like', 'my', 'ass', 'yeah', 'shoot', 'go', 'from', 'the', 'store', 'to', 'the', 'booth', 'make', 'it', 'all', 'back', 'in', 'one', 'loop', 'gimme', 'the', 'loot', 'never', 'mind', 'i', 'got', 'the', 'juice', 'nothing', 'but', 'net', 'when', 'we', 'shoot', 'look', 'at', 'my', 'neck', 'look', 'at', 'my', 'jet', \"ain't\", 'got', 'enough', 'money', 'to', 'pay', 'me', 'respect', \"ain't\", 'no', 'budget', 'when', \"i'm\", 'on', 'the', 'set', 'if', 'i', 'like', 'it', 'then', \"that's\", 'what', 'i', 'get', 'yeah', '', '', 'i', 'want', 'it', 'i', 'got', 'it', 'i', 'want', 'it', 'i', 'got', 'it', 'oh', 'yeah', 'i', 'want', 'it', 'i', 'got', 'it', 'i', 'want', 'it', 'i', 'got', 'it', 'oh', 'yeah', 'yeah', 'you', 'like', 'my', 'hair', 'gee', 'thanks', 'just', 'bought', 'it', 'i', 'see', 'it', 'i', 'like', 'it', 'i', 'want', 'it', 'i', 'got', 'it', 'i', 'see', 'yep']\n",
      "\n",
      "\n",
      " tokenized and lemmatized document: \n",
      "['breakfast', 'tiffany', 'bottle', 'bubble', 'girl', 'tattoo', 'like', 'getting', 'trouble', 'lash', 'diamond', 'machine', 'favorite', 'thing', 'shit', 'woulda', 'thought', 'turn', 'savage', 'tied', 'call', 'string', 'write', 'check', 'like', 'write', 'sing', 'wrist', 'stop', 'watchin', 'neck', 'flossy', 'deposit', 'gloss', 'poppin', 'like', 'hair', 'thanks', 'bought', 'like', 'want', 'want', 'want', 'want', 'want', 'like', 'hair', 'thanks', 'bought', 'like', 'want', 'wearing', 'ring', 'bought', 'matching', 'diamond', 'bitch', 'spoil', 'friend', 'rich', 'think', 'retail', 'therapy', 'addiction', 'said', 'money', 'solve', 'problem', 'money', 'solve', 'want', 'happiness', 'price', 'redbottoms', 'smile', 'beamin', 'skin', 'gleamin', 'gleamin', 'shine', 'know', 'seen', 'seen', 'bought', 'crib', 'closet', 'closet', 'want', 'want', 'want', 'want', 'want', 'baby', 'like', 'hair', 'thanks', 'bought', 'like', 'want', 'receipt', 'lookin', 'like', 'phone', 'number', 'money', 'wrong', 'number', 'black', 'card', 'business', 'card', 'settin', 'tone', 'mean', 'brag', 'like', 'rack', 'stacked', 'like', 'shoot', 'store', 'booth', 'loop', 'gimme', 'loot', 'mind', 'juice', 'shoot', 'look', 'neck', 'look', 'money', 'respect', 'budget', 'like', 'want', 'want', 'want', 'want', 'like', 'hair', 'thanks', 'bought', 'like', 'want']\n"
     ]
    }
   ],
   "source": [
    "### Tokenize and lemmatize the text for a specific song\n",
    "\n",
    "doc_sample = documents[documents['index'] == 1].values[0][0]\n",
    "print('original document: ')\n",
    "words = []\n",
    "for word in doc_sample.split(' '):\n",
    "    words.append(word)\n",
    "print(words)\n",
    "print('\\n\\n tokenized and lemmatized document: ')\n",
    "print(preprocess(doc_sample))"
   ]
  },
  {
   "cell_type": "code",
   "execution_count": 6,
   "id": "30f48278",
   "metadata": {},
   "outputs": [
    {
     "data": {
      "text/plain": [
       "0    [thought, sean, wasn, match, wrote, song, rick...\n",
       "1    [breakfast, tiffany, bottle, bubble, girl, tat...\n",
       "2    [love, love, touch, said, believe, woman, feel...\n",
       "3    [ariana, grande, nicki, minaj, night, ariana, ...\n",
       "4    [right, state, mind, like, time, tear, left, p...\n",
       "5    [lacigam, gnihtemos, thgin, laiceps, ruoy, thg...\n",
       "6    [type, feelin, mmmmmm, know, know, shouldn, th...\n",
       "7    [heaven, sent, hopin, repeat, history, tryna, ...\n",
       "8    [think, crazy, cravin, plainly, gimme, baby, d...\n",
       "9    [step, know, like, skrrt, staying, night, orde...\n",
       "Name: Lyric, dtype: object"
      ]
     },
     "execution_count": 6,
     "metadata": {},
     "output_type": "execute_result"
    }
   ],
   "source": [
    "### Tokenize and lemmatize the text, making sure all NaN's are filled with an empty string\n",
    "\n",
    "processed_docs = documents['Lyric'].fillna('').astype(str).map(preprocess)\n",
    "### print the first 10 results\n",
    "processed_docs[:10]"
   ]
  },
  {
   "cell_type": "code",
   "execution_count": 7,
   "id": "2023cc2f",
   "metadata": {},
   "outputs": [
    {
     "name": "stdout",
     "output_type": "stream",
     "text": [
      "0 aisle\n",
      "1 amazing\n",
      "2 angel\n",
      "3 better\n",
      "4 bout\n",
      "5 discussion\n",
      "6 drama\n",
      "7 fast\n",
      "8 forbid\n",
      "9 friend\n",
      "10 good\n",
      "Dictionary(32225 unique tokens: ['aisle', 'amazing', 'angel', 'better', 'bout']...)\n"
     ]
    }
   ],
   "source": [
    "###  Create a dictionary from ‘processed_docs’ containing the number of times a word appears in the training set \n",
    "###  We are going to use the Dictionary function to derive a dictionary with counts from the headlines\n",
    "\n",
    "dictionary = gensim.corpora.Dictionary(processed_docs)\n",
    "count = 0\n",
    "for k, v in dictionary.iteritems():\n",
    "    print(k, v)\n",
    "    count += 1\n",
    "    if count > 10:\n",
    "        break\n",
    "        \n",
    "print(dictionary)"
   ]
  },
  {
   "cell_type": "code",
   "execution_count": 8,
   "id": "dcf1a313",
   "metadata": {},
   "outputs": [
    {
     "name": "stdout",
     "output_type": "stream",
     "text": [
      "Dictionary(4554 unique tokens: ['aisle', 'amazing', 'angel', 'better', 'bout']...)\n"
     ]
    }
   ],
   "source": [
    "### Filter out tokens that appear in less than 10 documents\n",
    "\n",
    "dictionary.filter_extremes(no_below=10, no_above=0.5, keep_n=100000)\n",
    "print(dictionary)"
   ]
  },
  {
   "cell_type": "code",
   "execution_count": 10,
   "id": "aa5870ac",
   "metadata": {},
   "outputs": [
    {
     "data": {
      "text/plain": [
       "[(0, 1),\n",
       " (1, 5),\n",
       " (2, 1),\n",
       " (3, 1),\n",
       " (4, 1),\n",
       " (5, 1),\n",
       " (6, 1),\n",
       " (7, 1),\n",
       " (8, 1),\n",
       " (9, 2),\n",
       " (10, 5),\n",
       " (11, 1),\n",
       " (12, 1),\n",
       " (13, 1),\n",
       " (14, 1),\n",
       " (15, 1),\n",
       " (16, 1),\n",
       " (17, 1),\n",
       " (18, 1),\n",
       " (19, 1),\n",
       " (20, 4),\n",
       " (21, 3),\n",
       " (22, 5),\n",
       " (23, 3),\n",
       " (24, 1),\n",
       " (25, 1),\n",
       " (26, 1),\n",
       " (27, 1),\n",
       " (28, 2),\n",
       " (29, 1),\n",
       " (30, 5),\n",
       " (31, 5),\n",
       " (32, 1),\n",
       " (33, 1),\n",
       " (34, 2),\n",
       " (35, 1),\n",
       " (36, 1),\n",
       " (37, 2),\n",
       " (38, 1),\n",
       " (39, 2),\n",
       " (40, 2),\n",
       " (41, 2),\n",
       " (42, 3),\n",
       " (43, 1),\n",
       " (44, 6),\n",
       " (45, 37),\n",
       " (46, 1),\n",
       " (47, 1),\n",
       " (48, 1),\n",
       " (49, 2),\n",
       " (50, 1),\n",
       " (51, 1),\n",
       " (52, 1),\n",
       " (53, 1),\n",
       " (54, 1)]"
      ]
     },
     "execution_count": 10,
     "metadata": {},
     "output_type": "execute_result"
    }
   ],
   "source": [
    "### For each document we create a dictionary reporting how many words and how many times those words appear \n",
    "### Gensim provides the *doc2bow* function to create a BoW vector representation for a document\n",
    "### Save this to ‘bow_corpus’, then check a specific song\n",
    "\n",
    "bow_corpus = [dictionary.doc2bow(doc) for doc in processed_docs]\n",
    "bow_corpus[0]"
   ]
  },
  {
   "cell_type": "code",
   "execution_count": 11,
   "id": "949d7cec",
   "metadata": {},
   "outputs": [
    {
     "name": "stdout",
     "output_type": "stream",
     "text": [
      "Word 0 (\"aisle\") appears 1 time.\n",
      "Word 1 (\"amazing\") appears 5 time.\n",
      "Word 2 (\"angel\") appears 1 time.\n",
      "Word 3 (\"better\") appears 1 time.\n",
      "Word 4 (\"bout\") appears 1 time.\n",
      "Word 5 (\"discussion\") appears 1 time.\n",
      "Word 6 (\"drama\") appears 1 time.\n",
      "Word 7 (\"fast\") appears 1 time.\n",
      "Word 8 (\"friend\") appears 1 time.\n",
      "Word 9 (\"good\") appears 2 time.\n",
      "Word 10 (\"grateful\") appears 5 time.\n",
      "Word 11 (\"grew\") appears 1 time.\n",
      "Word 12 (\"hand\") appears 1 time.\n",
      "Word 13 (\"handle\") appears 1 time.\n",
      "Word 14 (\"happens\") appears 1 time.\n",
      "Word 15 (\"havin\") appears 1 time.\n",
      "Word 16 (\"holding\") appears 1 time.\n",
      "Word 17 (\"laugh\") appears 1 time.\n",
      "Word 18 (\"learned\") appears 1 time.\n",
      "Word 19 (\"listen\") appears 1 time.\n",
      "Word 20 (\"look\") appears 4 time.\n",
      "Word 21 (\"lost\") appears 3 time.\n",
      "Word 22 (\"love\") appears 5 time.\n",
      "Word 23 (\"loved\") appears 3 time.\n",
      "Word 24 (\"malcolm\") appears 1 time.\n",
      "Word 25 (\"mama\") appears 1 time.\n",
      "Word 26 (\"married\") appears 1 time.\n",
      "Word 27 (\"match\") appears 1 time.\n",
      "Word 28 (\"need\") appears 2 time.\n",
      "Word 29 (\"nothin\") appears 1 time.\n",
      "Word 30 (\"pain\") appears 5 time.\n",
      "Word 31 (\"patience\") appears 5 time.\n",
      "Word 32 (\"pete\") appears 1 time.\n",
      "Word 33 (\"plus\") appears 1 time.\n",
      "Word 34 (\"post\") appears 2 time.\n",
      "Word 35 (\"real\") appears 1 time.\n",
      "Word 36 (\"ricky\") appears 1 time.\n",
      "Word 37 (\"said\") appears 2 time.\n",
      "Word 38 (\"sean\") appears 1 time.\n",
      "Word 39 (\"searching\") appears 2 time.\n",
      "Word 40 (\"shit\") appears 2 time.\n",
      "Word 41 (\"smash\") appears 2 time.\n",
      "Word 42 (\"song\") appears 3 time.\n",
      "Word 43 (\"spend\") appears 1 time.\n",
      "Word 44 (\"taught\") appears 6 time.\n",
      "Word 45 (\"thank\") appears 37 time.\n",
      "Word 46 (\"thankful\") appears 1 time.\n",
      "Word 47 (\"thought\") appears 1 time.\n",
      "Word 48 (\"time\") appears 1 time.\n",
      "Word 49 (\"turned\") appears 2 time.\n",
      "Word 50 (\"walk\") appears 1 time.\n",
      "Word 51 (\"wasn\") appears 1 time.\n",
      "Word 52 (\"wish\") appears 1 time.\n",
      "Word 53 (\"worried\") appears 1 time.\n",
      "Word 54 (\"wrote\") appears 1 time.\n"
     ]
    }
   ],
   "source": [
    "### Preview Bag Of Words for a selected song\n",
    "\n",
    "bow_doc_1 = bow_corpus[0]\n",
    "for i in range(len(bow_doc_1)):\n",
    "    print(\"Word {} (\\\"{}\\\") appears {} time.\".format(bow_doc_1[i][0], \n",
    "                                               dictionary[bow_doc_1[i][0]], \n",
    "bow_doc_1[i][1]))"
   ]
  },
  {
   "cell_type": "code",
   "execution_count": 12,
   "id": "fd80b736",
   "metadata": {},
   "outputs": [],
   "source": [
    "### Train our lda model using gensim.models.LdaMulticore and save it to ‘lda_model’\n",
    "\n",
    "lda_model = gensim.models.LdaMulticore(bow_corpus, num_topics=5, id2word=dictionary, passes=2, workers=2)"
   ]
  },
  {
   "cell_type": "code",
   "execution_count": 13,
   "id": "905f3e54",
   "metadata": {},
   "outputs": [
    {
     "name": "stdout",
     "output_type": "stream",
     "text": [
      "Topic: 0 \n",
      "Words: 0.031*\"love\" + 0.024*\"want\" + 0.020*\"baby\" + 0.016*\"feel\" + 0.016*\"time\" + 0.010*\"right\" + 0.010*\"think\" + 0.010*\"thing\" + 0.007*\"tell\" + 0.007*\"heart\"\n",
      "Topic: 1 \n",
      "Words: 0.050*\"love\" + 0.017*\"need\" + 0.015*\"right\" + 0.012*\"night\" + 0.012*\"good\" + 0.012*\"diamond\" + 0.011*\"rihanna\" + 0.011*\"girl\" + 0.010*\"song\" + 0.009*\"heart\"\n",
      "Topic: 2 \n",
      "Words: 0.012*\"baby\" + 0.011*\"money\" + 0.010*\"shit\" + 0.010*\"want\" + 0.010*\"hard\" + 0.009*\"girl\" + 0.009*\"look\" + 0.009*\"tell\" + 0.008*\"fuck\" + 0.008*\"time\"\n",
      "Topic: 3 \n",
      "Words: 0.016*\"girl\" + 0.014*\"love\" + 0.011*\"baby\" + 0.009*\"need\" + 0.009*\"shit\" + 0.009*\"tonight\" + 0.009*\"time\" + 0.008*\"body\" + 0.008*\"shake\" + 0.007*\"want\"\n",
      "Topic: 4 \n",
      "Words: 0.032*\"baby\" + 0.027*\"work\" + 0.014*\"music\" + 0.012*\"night\" + 0.011*\"stop\" + 0.011*\"love\" + 0.010*\"rihanna\" + 0.008*\"light\" + 0.007*\"kiss\" + 0.007*\"time\"\n"
     ]
    }
   ],
   "source": [
    "### For each topic, we will explore the words occuring in that topic and its relative weight\n",
    "\n",
    "for idx, topic in lda_model.print_topics(-1):\n",
    "    print('Topic: {} \\nWords: {}'.format(idx, topic))"
   ]
  },
  {
   "cell_type": "code",
   "execution_count": 33,
   "id": "38e42cf5",
   "metadata": {},
   "outputs": [
    {
     "name": "stdout",
     "output_type": "stream",
     "text": [
      "\n",
      "Score: 0.9937191605567932\t \n",
      "Topic: 0.018*\"girl\" + 0.013*\"love\" + 0.011*\"need\" + 0.010*\"tonight\" + 0.010*\"baby\" + 0.009*\"time\" + 0.009*\"shake\" + 0.009*\"body\" + 0.009*\"shit\" + 0.007*\"ohoh\"\n"
     ]
    }
   ],
   "source": [
    "### Check where a specific song would be classified \n",
    "\n",
    "for index, score in sorted(lda_model[bow_corpus[0]], key=lambda tup: -1*tup[1]):\n",
    "    print(\"\\nScore: {}\\t \\nTopic: {}\".format(score, lda_model.print_topic(index, 10)))"
   ]
  },
  {
   "cell_type": "code",
   "execution_count": 14,
   "id": "e93325cf",
   "metadata": {},
   "outputs": [
    {
     "name": "stderr",
     "output_type": "stream",
     "text": [
      "C:\\Users\\Gebruiker\\anaconda3\\lib\\site-packages\\pyLDAvis\\_prepare.py:246: FutureWarning: In a future version of pandas all arguments of DataFrame.drop except for the argument 'labels' will be keyword-only\n",
      "  default_term_info = default_term_info.sort_values(\n"
     ]
    },
    {
     "data": {
      "text/html": [
       "\n",
       "<link rel=\"stylesheet\" type=\"text/css\" href=\"https://cdn.jsdelivr.net/gh/bmabey/pyLDAvis@3.3.1/pyLDAvis/js/ldavis.v1.0.0.css\">\n",
       "\n",
       "\n",
       "<div id=\"ldavis_el1626021441957227044625652694\"></div>\n",
       "<script type=\"text/javascript\">\n",
       "\n",
       "var ldavis_el1626021441957227044625652694_data = {\"mdsDat\": {\"x\": [0.00895119039672174, -0.0172329318840375, 0.01153152257784982, 0.07190620197710365, -0.07515598306763771], \"y\": [0.007534059983715228, -0.06797756504199103, -0.03855445375685637, 0.04519169163035909, 0.053806267184773056], \"topics\": [1, 2, 3, 4, 5], \"cluster\": [1, 1, 1, 1, 1], \"Freq\": [33.128408836842304, 28.821799679545613, 14.82613551806372, 12.276161424147714, 10.94749454140063]}, \"tinfo\": {\"Term\": [\"love\", \"work\", \"baby\", \"music\", \"rihanna\", \"night\", \"need\", \"diamond\", \"stop\", \"trigger\", \"girl\", \"song\", \"nananana\", \"good\", \"right\", \"shake\", \"shine\", \"money\", \"bright\", \"ohoh\", \"kiss\", \"body\", \"heart\", \"ready\", \"dirt\", \"light\", \"rockstar\", \"tonight\", \"released\", \"dance\", \"unfaithful\", \"reluctantly\", \"dancefloor\", \"wantin\", \"preparing\", \"revival\", \"daylight\", \"raraahahah\", \"damned\", \"murderer\", \"romance\", \"shield\", \"nostalgia\", \"rom\", \"sympathize\", \"groove\", \"puth\", \"heals\", \"leatherstudded\", \"rained\", \"romama\", \"ohohohoh\", \"river\", \"amour\", \"asks\", \"hotline\", \"shtick\", \"avoiding\", \"vertigo\", \"toll\", \"edge\", \"rehab\", \"dish\", \"replay\", \"breakin\", \"anymore\", \"charlie\", \"mister\", \"california\", \"feel\", \"want\", \"rude\", \"gomez\", \"babe\", \"thing\", \"love\", \"turn\", \"think\", \"king\", \"better\", \"time\", \"happy\", \"home\", \"everybody\", \"looking\", \"heart\", \"baby\", \"wait\", \"reason\", \"right\", \"thought\", \"hold\", \"selena\", \"make\", \"crazy\", \"world\", \"life\", \"tell\", \"little\", \"gone\", \"away\", \"said\", \"need\", \"look\", \"girl\", \"night\", \"long\", \"mind\", \"eye\", \"good\", \"hand\", \"episode\", \"buck\", \"reign\", \"jeezy\", \"australia\", \"columbus\", \"philadelphia\", \"august\", \"kansa\", \"june\", \"chinese\", \"north\", \"washington\", \"buffet\", \"england\", \"october\", \"pittsburgh\", \"inner\", \"july\", \"canada\", \"jersey\", \"duke\", \"carriage\", \"brilliant\", \"oven\", \"angeles\", \"mistress\", \"arizona\", \"pedestal\", \"gravy\", \"wood\", \"eheh\", \"diva\", \"minaj\", \"lighter\", \"nicki\", \"september\", \"mwah\", \"nigga\", \"hard\", \"bitch\", \"ride\", \"money\", \"beat\", \"stupid\", \"spit\", \"york\", \"hook\", \"clear\", \"swift\", \"dirty\", \"shit\", \"taylor\", \"dick\", \"real\", \"fuck\", \"drive\", \"look\", \"mean\", \"break\", \"tell\", \"game\", \"dont\", \"little\", \"girl\", \"baby\", \"want\", \"time\", \"young\", \"gotta\", \"drake\", \"hand\", \"right\", \"thing\", \"light\", \"love\", \"good\", \"need\", \"feel\", \"said\", \"breathin\", \"freakin\", \"typical\", \"oxygen\", \"intervention\", \"rotation\", \"cream\", \"stylin\", \"tragic\", \"shake\", \"feat\", \"twerk\", \"desk\", \"braggin\", \"celebrate\", \"christ\", \"bastard\", \"numb\", \"borrowed\", \"homeless\", \"jukebox\", \"accepting\", \"swish\", \"physical\", \"american\", \"captured\", \"basket\", \"champion\", \"amen\", \"ohoh\", \"bodied\", \"breathe\", \"thang\", \"promised\", \"calm\", \"sick\", \"trouble\", \"neon\", \"smokin\", \"body\", \"skrrt\", \"drink\", \"tonight\", \"thank\", \"street\", \"malone\", \"girl\", \"lady\", \"wish\", \"slow\", \"live\", \"post\", \"check\", \"shit\", \"long\", \"watch\", \"need\", \"money\", \"fuck\", \"love\", \"going\", \"life\", \"time\", \"baby\", \"hand\", \"want\", \"night\", \"song\", \"stop\", \"right\", \"think\", \"said\", \"feel\", \"trigger\", \"nananana\", \"released\", \"ella\", \"slay\", \"fiendin\", \"ray\", \"rainin\", \"oath\", \"behave\", \"hopeless\", \"spoil\", \"umbrella\", \"affliction\", \"william\", \"napalm\", \"warmth\", \"excite\", \"entity\", \"estoy\", \"lyric\", \"diamond\", \"est\\u00e1s\", \"shine\", \"flare\", \"universe\", \"infinity\", \"witch\", \"raining\", \"awhile\", \"terrified\", \"perfectly\", \"beating\", \"cake\", \"bright\", \"runway\", \"nanana\", \"loving\", \"leaving\", \"ready\", \"beautiful\", \"love\", \"song\", \"rihanna\", \"need\", \"good\", \"night\", \"right\", \"heart\", \"away\", \"dream\", \"girl\", \"stay\", \"place\", \"eye\", \"said\", \"time\", \"think\", \"tell\", \"baby\", \"want\", \"life\", \"feel\", \"look\", \"halo\", \"haffi\", \"rockstar\", \"talker\", \"woohoo\", \"mmmmm\", \"dirt\", \"righteous\", \"kindness\", \"disobey\", \"refuse\", \"ibiza\", \"glitter\", \"sixinch\", \"walker\", \"work\", \"badda\", \"crisis\", \"willing\", \"nicest\", \"frisk\", \"decoration\", \"guzzle\", \"demo\", \"rare\", \"stalker\", \"abduction\", \"jjjust\", \"alarm\", \"merry\", \"escape\", \"hotter\", \"music\", \"rockin\", \"rhythm\", \"jump\", \"ahead\", \"girlfriend\", \"drum\", \"stop\", \"learn\", \"kiss\", \"rocking\", \"dance\", \"kill\", \"baby\", \"rihanna\", \"city\", \"night\", \"light\", \"bout\", \"told\", \"better\", \"play\", \"love\", \"said\", \"long\", \"head\", \"tell\", \"feel\", \"time\", \"gotta\", \"hand\", \"mind\", \"people\", \"thing\", \"think\", \"need\", \"away\"], \"Freq\": [12516.0, 2171.0, 9427.0, 1581.0, 2185.0, 3510.0, 4345.0, 1118.0, 1928.0, 581.0, 5152.0, 1785.0, 547.0, 2908.0, 4661.0, 895.0, 773.0, 2881.0, 870.0, 930.0, 1226.0, 1467.0, 2720.0, 1040.0, 420.0, 2193.0, 410.0, 1969.0, 350.0, 1002.0, 58.678422812194675, 26.67023311082399, 102.76615162004227, 100.20104185077682, 28.25294579630721, 52.562774576181354, 240.12664452162966, 35.963082615978735, 42.67042556515056, 101.96823986839757, 195.7097851089197, 30.970180314466262, 32.647119816520465, 20.606171385641797, 21.22250742514337, 65.61126621872653, 61.51067355706313, 41.71795479940247, 9.798390019721952, 10.082347196666188, 19.91191361935, 145.79628754563987, 104.96129794866827, 14.871630084289894, 33.05816288480154, 15.99407313786602, 8.646519840746876, 31.564314901740563, 9.5068538085272, 24.66199516173327, 183.42253419050408, 36.994728699011034, 77.2293017339734, 116.62042991827484, 111.86523305360741, 525.351495922845, 67.13732054011606, 96.7273453964116, 437.39725356031556, 3114.631432208431, 4586.996362942136, 244.4132397245072, 337.1060878077165, 593.0361839918961, 1908.5845383874616, 6028.7199747387485, 1199.0682480879323, 1992.6890520186798, 402.9582116684676, 1298.271846964546, 3006.057550074695, 356.91360285944035, 957.5744215077407, 692.912088778892, 674.9628715962575, 1386.639039423401, 3935.7508626013764, 623.5462545282767, 475.64954385876393, 2018.8554511245911, 728.2136009305982, 821.9831121765028, 334.7503921533649, 399.2325519381714, 674.0436392075444, 830.8352222604889, 1190.5977230978453, 1418.8528263791434, 1070.2483690659744, 627.554692864141, 991.6276604083677, 1068.2556369375577, 1325.512104780146, 1048.7452592907962, 1291.9887055771626, 1048.2111119533345, 788.7748886202205, 753.6029197617984, 681.5256506018417, 761.6005017968412, 714.5884913142584, 60.50023179471622, 444.33157175626667, 92.59778671831502, 51.670282118709736, 101.62872405019591, 31.564238365572262, 41.626725761357335, 237.68655352357277, 30.959899304937583, 209.80936851139006, 25.60456740373378, 93.47905229810267, 45.297414831363994, 17.460424422498694, 53.597114880045034, 172.88606034657576, 20.916960237535363, 53.165792676909696, 161.57049631085147, 78.9175581150091, 25.09768207902868, 24.63476829377887, 41.87273898537666, 22.095056887517824, 17.986485993699677, 70.44973561056811, 43.30296320173085, 24.851310192469132, 60.82687333373051, 37.09386318215661, 195.42929413673824, 160.98374391409394, 69.36552071040033, 895.8310851354764, 51.50153017359347, 1241.212941946764, 232.4385837159574, 88.69353757806664, 892.0260415658779, 1595.8614286163656, 1003.3228047336924, 931.9486664432605, 1809.7728815973346, 868.5194841105343, 312.05669028810553, 197.44401141983468, 239.54498177485547, 617.6291522299474, 282.43979188557324, 449.07930735539907, 232.3233822839898, 1684.98197468756, 475.48417044055384, 263.0279797370806, 791.7654272357843, 1372.4754288585264, 481.4637532730779, 1462.8203658860857, 708.8035317600537, 910.3922182161485, 1446.0614658732165, 550.5371030864251, 625.3247328073041, 1012.8630135941173, 1463.7989729672665, 1951.8314330341777, 1639.4491845143223, 1368.7958537410946, 578.3850095238956, 677.3040014844767, 409.08856099418597, 709.7184286626608, 940.9442157378394, 770.2637104243342, 654.5592335050452, 1055.639713934446, 688.0772677593815, 698.3717707805922, 652.1434778245907, 632.3487799950616, 97.47925914291635, 34.90949238361736, 20.94330071466742, 50.70665993043195, 19.938497920061884, 19.51746099826789, 115.8004995030205, 30.6707882090759, 33.571363515337154, 664.9395391963699, 38.034322504980324, 45.27039467948921, 9.776063946961086, 5.344333528485579, 35.73334229161648, 15.695953164053345, 37.33271855609662, 150.88168595968787, 16.276506001389162, 17.576722306147815, 6.17367132617907, 21.625759490446942, 67.2313616264929, 78.45005653794412, 176.01375826945684, 16.60548443643575, 15.703654408459219, 107.87360964012727, 42.528400245242665, 617.320184647202, 90.13688067747239, 472.50441848434, 120.7755134299514, 86.42496119972769, 91.01389879204284, 422.8376374041543, 194.4921863494749, 44.34894630873103, 70.49826565011405, 708.669835605722, 124.15047585291548, 249.7179806765119, 747.969034790504, 153.39115703285066, 243.32667075261796, 304.2452610911266, 1342.9338825082648, 287.44054335335636, 459.28084968045255, 269.8910239108417, 365.9941801224491, 548.0529232544603, 312.9678290673752, 752.3879224802665, 526.4952223818675, 361.8986844533182, 804.0674293083324, 613.8293019287154, 539.507694755, 1175.9242344486167, 349.1576332519975, 511.492595835072, 740.4452302687762, 915.1043125372528, 427.9071246148073, 642.0161777577642, 474.9068051095385, 366.691127680077, 370.07320898476695, 410.65159791832133, 384.23036540906935, 369.9601904619084, 348.718853094844, 563.1189209166938, 529.3815075746094, 337.0802900712793, 258.7701561481172, 65.78260441667666, 35.0166387152522, 23.948979154144574, 71.71960936263092, 36.15081717810443, 112.59117907785198, 221.49310435393824, 51.52047298916769, 178.3357103952944, 23.58482174479688, 22.19958280576274, 5.18397368562668, 19.102318100519025, 70.42545654112274, 12.03501620240255, 14.043908427842045, 253.38352135889534, 831.0080145711464, 5.3580513860696, 571.4815510014029, 5.625271313516451, 12.871778455247085, 11.208724155770069, 14.535950962355285, 38.98786790083217, 12.071932642627939, 65.30505909076471, 95.51219948927901, 112.71963577755018, 252.7678503706453, 519.5684499558022, 96.63183709602018, 81.47217568980626, 242.16153875242023, 198.5532535471624, 499.687666047865, 378.3167280267214, 3539.5627631556963, 689.565407532683, 794.9299307719372, 1202.086272833293, 878.3587619710291, 889.58234082929, 1054.6651707731621, 623.2815177016867, 551.9206825555322, 334.237265875072, 774.818421970464, 395.6746027319908, 314.99594708356665, 366.09342997712594, 482.0388079441465, 599.564142626632, 481.9187232525123, 476.61264929560383, 567.223615873331, 534.3366721806109, 395.6321025281944, 384.1114878167967, 343.5923655075886, 127.8844520832517, 116.75777981153526, 353.5019713382753, 18.088215659998482, 119.45970665157245, 33.67052681224079, 355.945031113734, 14.196204467116445, 145.58288990779215, 17.331867648290135, 105.36071912633562, 14.401603650122789, 155.66051148155915, 17.56918964213704, 19.738079866441115, 1696.7513366995179, 15.632594722775519, 14.07940716329525, 159.14004781871097, 15.083016556479402, 17.764600319794734, 15.255669975151998, 22.28143987913058, 57.15135097473892, 67.93407687727235, 19.93213563643322, 6.041547182105285, 7.851581492408274, 135.12865219396156, 42.794015364603965, 141.37179981316262, 169.13693098220017, 896.2376945222637, 142.87055381816543, 107.69938984608157, 304.63861094243515, 177.03629104143434, 119.90215165709577, 121.75204731385043, 722.4832382157343, 217.79524992031364, 477.2600011547554, 114.39485791272423, 374.0437802077455, 271.5917345981236, 2057.272700978949, 647.5327858934479, 284.8018730387519, 744.8621165298582, 520.323037050685, 328.7778683324418, 312.7276358328656, 392.5189230219576, 295.22731479431627, 716.8714367917231, 394.8228369311083, 338.41434234988645, 285.7728691927707, 411.9101687679941, 418.0555406154097, 446.3276556202248, 310.326895143345, 317.42232602167337, 277.7584290964078, 234.26478834566322, 305.3330947227422, 309.6646177592039, 315.7928781051575, 286.10658795525234], \"Total\": [12516.0, 2171.0, 9427.0, 1581.0, 2185.0, 3510.0, 4345.0, 1118.0, 1928.0, 581.0, 5152.0, 1785.0, 547.0, 2908.0, 4661.0, 895.0, 773.0, 2881.0, 870.0, 930.0, 1226.0, 1467.0, 2720.0, 1040.0, 420.0, 2193.0, 410.0, 1969.0, 350.0, 1002.0, 60.613633503220115, 27.868136219038252, 107.4983852622455, 105.66834694113477, 29.97244037932375, 55.948072449821964, 256.4897948505801, 38.66408679455404, 45.891056286441966, 110.15097889591199, 213.22317598571843, 33.84965299362439, 35.776615605498606, 22.668096871073367, 23.460405729170247, 72.60468401752168, 68.77855941638273, 46.89910445663809, 11.022201511231344, 11.394681926287717, 22.507706142445443, 164.88236034765836, 119.6246860489685, 17.03168605111179, 37.95033113553103, 18.362206574283462, 9.930137547040053, 36.46392573710553, 10.982582646100889, 28.575503331962768, 214.7639053822096, 43.06129919722205, 90.76435904920426, 139.09308264771167, 133.36612681120906, 659.3800068051955, 80.72937379372281, 118.90847025134771, 596.5556322889337, 4917.660791560072, 7592.159714445986, 326.0649914833272, 464.86290828307824, 884.0162815882694, 3364.567527377928, 12516.718123069231, 2049.331400367662, 3667.166464174877, 601.3130876992903, 2330.277711075626, 6161.190432331422, 538.8655686856357, 1699.3100965368803, 1176.3562325256637, 1147.4077049333855, 2720.4053663260834, 9427.182925025087, 1062.9553156791924, 768.9921869365223, 4661.684055365395, 1337.5813890094212, 1565.972616336979, 502.03794048913676, 633.6685360673273, 1286.3317853654596, 1735.3496433821783, 2914.381146184257, 3990.2988725508158, 2717.463628376517, 1245.3841883009723, 2564.458915798828, 2947.4262522697823, 4345.8304558075215, 3425.3176008661226, 5152.616442571866, 3510.3593230649226, 2037.0230719493125, 1977.7798824376305, 1580.8428408465602, 2908.1304622625494, 2311.533111284917, 63.25774848070489, 470.0202742749465, 98.92038969536816, 55.39710525469885, 109.31538323849608, 33.96622613678447, 45.23596930260143, 261.94144938496913, 34.29710502345608, 233.1751309492199, 28.567573159549138, 104.43604174599866, 50.60913474505052, 19.549650103553596, 60.306847310775915, 195.37662302569865, 23.69742658235859, 60.34083607832855, 183.63846409266927, 90.0585237759027, 28.771219106242235, 28.30918340350091, 48.12276235138951, 25.465851929096857, 20.74188140259938, 81.28829665256171, 49.987765122096505, 28.751031869947447, 70.42749046098547, 43.02712546626138, 227.35040923352125, 187.47780149777782, 81.07329441718718, 1106.4042871775146, 60.013697106378274, 1557.4032277887836, 281.07806696819415, 105.57631278122324, 1203.6834205342714, 2348.624384982392, 1449.8602763609774, 1344.4633020249676, 2881.6658078868477, 1383.6913663740452, 444.65602062808176, 264.7858258332425, 331.5599322730547, 990.7517612805124, 405.95785958752344, 704.816445459093, 328.63457331633117, 3444.578135420377, 767.184180262323, 380.94782776682933, 1417.7052385765096, 2765.3274424947404, 817.586662137445, 3425.3176008661226, 1434.1947065455813, 2017.966987378441, 3990.2988725508158, 1060.121337582248, 1292.4091037261626, 2717.463628376517, 5152.616442571866, 9427.182925025087, 7592.159714445986, 6161.190432331422, 1383.582820292384, 2009.6163930298355, 755.899293561862, 2311.533111284917, 4661.684055365395, 3364.567527377928, 2193.8815699941483, 12516.718123069231, 2908.1304622625494, 4345.8304558075215, 4917.660791560072, 2947.4262522697823, 109.20733918202389, 41.89779030630512, 25.38674268236529, 61.59689850879051, 24.98620945031582, 25.095398454325444, 149.68149967948568, 40.15081108594192, 44.83408496716241, 895.6111150221727, 51.93814224669304, 61.860971405548156, 13.397244347807645, 7.339872455721877, 49.3507760941748, 21.814180785768013, 51.88998792129045, 211.06797128843726, 22.829900880219697, 24.73478391314034, 8.762570540787657, 30.990205221370765, 96.5767460763823, 114.4806968360662, 257.2838454027734, 24.509144613499714, 23.222416383765545, 159.79139785990483, 63.752555419089724, 930.2448652775134, 137.39227829453264, 746.082984496298, 187.13812543259857, 133.30059043293932, 140.82597303107696, 740.8504642868924, 331.25636778099795, 67.12645130634714, 112.01982286481903, 1467.594306313983, 219.2455470384595, 497.85461030491473, 1969.500139502586, 302.43203791403363, 552.6438435934751, 735.2315429803983, 5152.616442571866, 716.9417876217714, 1333.0613745183048, 665.493548936626, 1040.1249493163273, 1845.095313045887, 851.7989262803501, 3444.578135420377, 2037.0230719493125, 1158.005607264601, 4345.8304558075215, 2881.6658078868477, 2765.3274424947404, 12516.718123069231, 1409.8370595711385, 2914.381146184257, 6161.190432331422, 9427.182925025087, 2311.533111284917, 7592.159714445986, 3510.3593230649226, 1785.2660998879442, 1928.0971144157575, 4661.684055365395, 3667.166464174877, 2947.4262522697823, 4917.660791560072, 581.4201562550361, 547.4795860717513, 350.7270313545896, 289.9213325358414, 73.96253625284102, 39.37773382867102, 27.491483225955058, 82.63988311870023, 41.74374677294588, 130.33964481076436, 258.6887251717627, 61.09250140008425, 213.0281097813315, 29.086035035835287, 28.86163535033994, 6.777013603381492, 25.026881743109026, 92.66752677873271, 15.907969327410392, 18.675782423465673, 337.2143398123929, 1118.633780458864, 7.218865807507392, 773.4730320994648, 7.757667013299144, 17.988538172267955, 15.960057206765116, 20.7665090951993, 56.00993429257398, 17.41965193396339, 94.64965793652188, 140.00824626737526, 168.21892783199164, 392.57707004186864, 870.3127389174556, 150.3168845281542, 125.9356195499632, 406.95831365272767, 330.09024394625123, 1040.8818905247065, 790.7454413873645, 12516.718123069231, 1785.2660998879442, 2185.386188155745, 4345.8304558075215, 2908.1304622625494, 3510.3593230649226, 4661.684055365395, 2720.4053663260834, 2564.458915798828, 1164.6414642554605, 5152.616442571866, 1654.12203140785, 1180.8113148960283, 1580.8428408465602, 2947.4262522697823, 6161.190432331422, 3667.166464174877, 3990.2988725508158, 9427.182925025087, 7592.159714445986, 2914.381146184257, 4917.660791560072, 3425.3176008661226, 141.3967477223116, 130.02119705301342, 410.66704012882826, 21.050197486355327, 139.1160107814327, 39.47268178971624, 420.56879585382524, 16.788172508193732, 172.65081326055525, 20.9150022781788, 129.95581068435746, 17.860894114872224, 194.57470002292612, 21.99112154943804, 25.02467434539052, 2171.7859499749447, 20.04148496077255, 18.1564884047965, 205.66399806113947, 19.508101495802137, 23.009382795272234, 20.45023426310386, 29.89270190166823, 78.04907571364869, 92.8224243861479, 27.604158982107613, 8.477001834986593, 11.13212231973747, 192.14037223736545, 62.38927859282283, 212.2217701179525, 267.1602970647299, 1581.2463865732752, 225.55230964417578, 172.8151688153236, 563.6392328806517, 318.06750013636963, 207.81767990871947, 212.52150931472357, 1928.0971144157575, 466.7577530672036, 1226.1332858930198, 214.02790318339845, 1002.0480227427389, 670.1831719103333, 9427.182925025087, 2185.386188155745, 763.6876691108064, 3510.3593230649226, 2193.8815699941483, 1269.4305872091472, 1279.6022086566036, 2330.277711075626, 1451.0740511828199, 12516.718123069231, 2947.4262522697823, 2037.0230719493125, 1361.225030483832, 3990.2988725508158, 4917.660791560072, 6161.190432331422, 2009.6163930298355, 2311.533111284917, 1977.7798824376305, 1048.3552226401569, 3364.567527377928, 3667.166464174877, 4345.8304558075215, 2564.458915798828], \"Category\": [\"Default\", \"Default\", \"Default\", \"Default\", \"Default\", \"Default\", \"Default\", \"Default\", \"Default\", \"Default\", \"Default\", \"Default\", \"Default\", \"Default\", \"Default\", \"Default\", \"Default\", \"Default\", \"Default\", \"Default\", \"Default\", \"Default\", \"Default\", \"Default\", \"Default\", \"Default\", \"Default\", \"Default\", \"Default\", \"Default\", \"Topic1\", \"Topic1\", \"Topic1\", \"Topic1\", \"Topic1\", \"Topic1\", \"Topic1\", \"Topic1\", \"Topic1\", \"Topic1\", \"Topic1\", \"Topic1\", \"Topic1\", \"Topic1\", \"Topic1\", \"Topic1\", \"Topic1\", \"Topic1\", \"Topic1\", \"Topic1\", \"Topic1\", \"Topic1\", \"Topic1\", \"Topic1\", \"Topic1\", \"Topic1\", \"Topic1\", \"Topic1\", \"Topic1\", \"Topic1\", \"Topic1\", \"Topic1\", \"Topic1\", \"Topic1\", \"Topic1\", \"Topic1\", \"Topic1\", \"Topic1\", \"Topic1\", \"Topic1\", \"Topic1\", \"Topic1\", \"Topic1\", \"Topic1\", \"Topic1\", \"Topic1\", \"Topic1\", \"Topic1\", \"Topic1\", \"Topic1\", \"Topic1\", \"Topic1\", \"Topic1\", \"Topic1\", \"Topic1\", \"Topic1\", \"Topic1\", \"Topic1\", \"Topic1\", \"Topic1\", \"Topic1\", \"Topic1\", \"Topic1\", \"Topic1\", \"Topic1\", \"Topic1\", \"Topic1\", \"Topic1\", \"Topic1\", \"Topic1\", \"Topic1\", \"Topic1\", \"Topic1\", \"Topic1\", \"Topic1\", \"Topic1\", \"Topic1\", \"Topic1\", \"Topic1\", \"Topic1\", \"Topic1\", \"Topic2\", \"Topic2\", \"Topic2\", \"Topic2\", \"Topic2\", \"Topic2\", \"Topic2\", \"Topic2\", \"Topic2\", \"Topic2\", \"Topic2\", \"Topic2\", \"Topic2\", \"Topic2\", \"Topic2\", \"Topic2\", \"Topic2\", \"Topic2\", \"Topic2\", \"Topic2\", \"Topic2\", \"Topic2\", \"Topic2\", \"Topic2\", \"Topic2\", \"Topic2\", \"Topic2\", \"Topic2\", \"Topic2\", \"Topic2\", \"Topic2\", \"Topic2\", \"Topic2\", \"Topic2\", \"Topic2\", \"Topic2\", \"Topic2\", \"Topic2\", \"Topic2\", \"Topic2\", \"Topic2\", \"Topic2\", \"Topic2\", \"Topic2\", \"Topic2\", \"Topic2\", \"Topic2\", \"Topic2\", \"Topic2\", \"Topic2\", \"Topic2\", \"Topic2\", \"Topic2\", \"Topic2\", \"Topic2\", \"Topic2\", \"Topic2\", \"Topic2\", \"Topic2\", \"Topic2\", \"Topic2\", \"Topic2\", \"Topic2\", \"Topic2\", \"Topic2\", \"Topic2\", \"Topic2\", \"Topic2\", \"Topic2\", \"Topic2\", \"Topic2\", \"Topic2\", \"Topic2\", \"Topic2\", \"Topic2\", \"Topic2\", \"Topic2\", \"Topic2\", \"Topic2\", \"Topic2\", \"Topic3\", \"Topic3\", \"Topic3\", \"Topic3\", \"Topic3\", \"Topic3\", \"Topic3\", \"Topic3\", \"Topic3\", \"Topic3\", \"Topic3\", \"Topic3\", \"Topic3\", \"Topic3\", \"Topic3\", \"Topic3\", \"Topic3\", \"Topic3\", \"Topic3\", \"Topic3\", \"Topic3\", \"Topic3\", \"Topic3\", \"Topic3\", \"Topic3\", \"Topic3\", \"Topic3\", \"Topic3\", \"Topic3\", \"Topic3\", \"Topic3\", \"Topic3\", \"Topic3\", \"Topic3\", \"Topic3\", \"Topic3\", \"Topic3\", \"Topic3\", \"Topic3\", \"Topic3\", \"Topic3\", \"Topic3\", \"Topic3\", \"Topic3\", \"Topic3\", \"Topic3\", \"Topic3\", \"Topic3\", \"Topic3\", \"Topic3\", \"Topic3\", \"Topic3\", \"Topic3\", \"Topic3\", \"Topic3\", \"Topic3\", \"Topic3\", \"Topic3\", \"Topic3\", \"Topic3\", \"Topic3\", \"Topic3\", \"Topic3\", \"Topic3\", \"Topic3\", \"Topic3\", \"Topic3\", \"Topic3\", \"Topic3\", \"Topic3\", \"Topic3\", \"Topic3\", \"Topic3\", \"Topic4\", \"Topic4\", \"Topic4\", \"Topic4\", \"Topic4\", \"Topic4\", \"Topic4\", \"Topic4\", \"Topic4\", \"Topic4\", \"Topic4\", \"Topic4\", \"Topic4\", \"Topic4\", \"Topic4\", \"Topic4\", \"Topic4\", \"Topic4\", \"Topic4\", \"Topic4\", \"Topic4\", \"Topic4\", \"Topic4\", \"Topic4\", \"Topic4\", \"Topic4\", \"Topic4\", \"Topic4\", \"Topic4\", \"Topic4\", \"Topic4\", \"Topic4\", \"Topic4\", \"Topic4\", \"Topic4\", \"Topic4\", \"Topic4\", \"Topic4\", \"Topic4\", \"Topic4\", \"Topic4\", \"Topic4\", \"Topic4\", \"Topic4\", \"Topic4\", \"Topic4\", \"Topic4\", \"Topic4\", \"Topic4\", \"Topic4\", \"Topic4\", \"Topic4\", \"Topic4\", \"Topic4\", \"Topic4\", \"Topic4\", \"Topic4\", \"Topic4\", \"Topic4\", \"Topic4\", \"Topic4\", \"Topic4\", \"Topic4\", \"Topic4\", \"Topic5\", \"Topic5\", \"Topic5\", \"Topic5\", \"Topic5\", \"Topic5\", \"Topic5\", \"Topic5\", \"Topic5\", \"Topic5\", \"Topic5\", \"Topic5\", \"Topic5\", \"Topic5\", \"Topic5\", \"Topic5\", \"Topic5\", \"Topic5\", \"Topic5\", \"Topic5\", \"Topic5\", \"Topic5\", \"Topic5\", \"Topic5\", \"Topic5\", \"Topic5\", \"Topic5\", \"Topic5\", \"Topic5\", \"Topic5\", \"Topic5\", \"Topic5\", \"Topic5\", \"Topic5\", \"Topic5\", \"Topic5\", \"Topic5\", \"Topic5\", \"Topic5\", \"Topic5\", \"Topic5\", \"Topic5\", \"Topic5\", \"Topic5\", \"Topic5\", \"Topic5\", \"Topic5\", \"Topic5\", \"Topic5\", \"Topic5\", \"Topic5\", \"Topic5\", \"Topic5\", \"Topic5\", \"Topic5\", \"Topic5\", \"Topic5\", \"Topic5\", \"Topic5\", \"Topic5\", \"Topic5\", \"Topic5\", \"Topic5\", \"Topic5\", \"Topic5\", \"Topic5\", \"Topic5\", \"Topic5\", \"Topic5\"], \"logprob\": [30.0, 29.0, 28.0, 27.0, 26.0, 25.0, 24.0, 23.0, 22.0, 21.0, 20.0, 19.0, 18.0, 17.0, 16.0, 15.0, 14.0, 13.0, 12.0, 11.0, 10.0, 9.0, 8.0, 7.0, 6.0, 5.0, 4.0, 3.0, 2.0, 1.0, -8.0969, -8.8854, -7.5365, -7.5618, -8.8278, -8.207, -6.6878, -8.5865, -8.4155, -7.5443, -6.8924, -8.736, -8.6832, -9.1434, -9.1139, -7.9852, -8.0498, -8.4381, -9.8868, -9.8582, -9.1777, -7.1868, -7.5154, -9.4695, -8.6707, -9.3968, -10.0118, -8.717, -9.917, -8.9637, -6.9572, -8.5582, -7.8222, -7.4101, -7.4517, -5.9049, -7.9623, -7.5971, -6.0882, -4.1251, -3.738, -6.6701, -6.3486, -5.7837, -4.6149, -3.4647, -5.0797, -4.5718, -6.1702, -5.0002, -4.1606, -6.2915, -5.3046, -5.6281, -5.6543, -4.9344, -3.8911, -5.7336, -6.0043, -4.5587, -5.5784, -5.4573, -6.3556, -6.1795, -5.6557, -5.4466, -5.0868, -4.9114, -5.1934, -5.7272, -5.2696, -5.1952, -4.9794, -5.2136, -5.0051, -5.2142, -5.4985, -5.5441, -5.6447, -5.5336, -5.5973, -7.9271, -5.9332, -7.5015, -8.0849, -7.4084, -8.5777, -8.301, -6.5588, -8.597, -6.6835, -8.787, -7.492, -8.2165, -9.1698, -8.0482, -6.8771, -8.9892, -8.0563, -6.9448, -7.6613, -8.807, -8.8256, -8.2951, -8.9344, -9.1401, -7.7748, -8.2615, -8.8168, -7.9217, -8.4163, -6.7545, -6.9484, -7.7903, -5.232, -8.0881, -4.9059, -6.5811, -7.5446, -5.2362, -4.6546, -5.1187, -5.1925, -4.5288, -5.2629, -6.2866, -6.7443, -6.551, -5.6038, -6.3863, -5.9225, -6.5816, -4.6002, -5.8654, -6.4575, -5.3555, -4.8054, -5.8529, -4.7416, -5.4662, -5.2159, -4.7531, -5.7188, -5.5915, -5.1092, -4.7409, -4.4532, -4.6276, -4.8081, -5.6695, -5.5116, -6.0158, -5.4649, -5.1829, -5.383, -5.5458, -5.0678, -5.4958, -5.481, -5.5495, -5.5803, -6.7854, -7.8122, -8.3232, -7.4389, -8.3723, -8.3937, -6.6131, -7.9417, -7.8513, -4.8653, -7.7265, -7.5523, -9.0851, -9.689, -7.7889, -8.6116, -7.7451, -6.3485, -8.5753, -8.4984, -9.5447, -8.2911, -7.1569, -7.0025, -6.1944, -8.5553, -8.6111, -6.684, -7.6148, -4.9396, -6.8637, -5.2069, -6.5711, -6.9057, -6.854, -5.318, -6.0946, -7.5729, -7.1094, -4.8016, -6.5435, -5.8447, -4.7476, -6.332, -5.8706, -5.6472, -4.1624, -5.704, -5.2353, -5.767, -5.4624, -5.0586, -5.6189, -4.7417, -5.0988, -5.4736, -4.6753, -4.9453, -5.0743, -4.2952, -5.5095, -5.1277, -4.7577, -4.546, -5.3061, -4.9004, -5.2019, -5.4605, -5.4513, -5.3473, -5.4138, -5.4516, -5.5107, -4.8428, -4.9046, -5.3559, -5.6203, -6.9899, -7.6204, -8.0003, -6.9035, -7.5886, -6.4525, -5.7759, -7.2343, -5.9926, -8.0157, -8.0762, -9.5307, -8.2265, -6.9217, -8.6884, -8.5341, -5.6414, -4.4536, -9.4977, -4.828, -9.449, -8.6212, -8.7596, -8.4996, -7.513, -8.6854, -6.9972, -6.617, -6.4514, -5.6438, -4.9233, -6.6054, -6.776, -5.6867, -5.8852, -4.9623, -5.2405, -3.0045, -4.6402, -4.498, -4.0845, -4.3982, -4.3855, -4.2153, -4.7413, -4.8629, -5.3644, -4.5236, -5.1957, -5.4237, -5.2734, -4.9982, -4.7801, -4.9985, -5.0096, -4.8355, -4.8952, -5.1958, -5.2253, -5.3368, -6.2106, -6.3016, -5.1938, -8.1665, -6.2787, -7.5451, -5.1869, -8.4087, -6.081, -8.2092, -6.4043, -8.3944, -6.014, -8.1956, -8.0792, -3.6252, -8.3124, -8.417, -5.9919, -8.3481, -8.1845, -8.3368, -7.958, -7.016, -6.8432, -8.0694, -9.2631, -9.001, -6.1555, -7.3053, -6.1103, -5.931, -4.2635, -6.0998, -6.3824, -5.3426, -5.8854, -6.275, -6.2597, -4.479, -5.6782, -4.8937, -6.3221, -5.1373, -5.4574, -3.4326, -4.5885, -5.4099, -4.4485, -4.8073, -5.2663, -5.3164, -5.0891, -5.374, -4.4868, -5.0833, -5.2374, -5.4065, -5.0409, -5.0261, -4.9607, -5.3241, -5.3015, -5.435, -5.6053, -5.3403, -5.3262, -5.3066, -5.4054], \"loglift\": [30.0, 29.0, 28.0, 27.0, 26.0, 25.0, 24.0, 23.0, 22.0, 21.0, 20.0, 19.0, 18.0, 17.0, 16.0, 15.0, 14.0, 13.0, 12.0, 11.0, 10.0, 9.0, 8.0, 7.0, 6.0, 5.0, 4.0, 3.0, 2.0, 1.0, 1.0723, 1.0608, 1.0598, 1.0517, 1.0457, 1.0424, 1.0389, 1.0324, 1.032, 1.0276, 1.0191, 1.0159, 1.0132, 1.0094, 1.0045, 1.0035, 0.9931, 0.9877, 0.9871, 0.9824, 0.9822, 0.9818, 0.974, 0.9692, 0.9668, 0.9667, 0.9664, 0.9605, 0.9605, 0.9575, 0.947, 0.9529, 0.9433, 0.9286, 0.929, 0.8775, 0.9204, 0.8983, 0.7944, 0.6481, 0.6009, 0.8165, 0.7834, 0.7056, 0.5378, 0.3742, 0.5688, 0.4948, 0.7045, 0.5198, 0.3871, 0.6928, 0.5312, 0.5755, 0.5742, 0.4309, 0.2313, 0.5714, 0.6244, 0.2679, 0.4968, 0.4602, 0.6995, 0.6428, 0.4585, 0.3682, 0.2096, 0.0708, 0.173, 0.4194, 0.1546, 0.0899, -0.0826, -0.0788, -0.2785, -0.1039, 0.156, 0.1399, 0.2634, -0.2351, -0.0692, 1.1995, 1.1878, 1.178, 1.1744, 1.1711, 1.1707, 1.1609, 1.1469, 1.1417, 1.1384, 1.1345, 1.1332, 1.1332, 1.131, 1.1261, 1.1217, 1.1192, 1.1174, 1.116, 1.112, 1.1074, 1.105, 1.1049, 1.1021, 1.1015, 1.1009, 1.1005, 1.0983, 1.0975, 1.0957, 1.0927, 1.0917, 1.0881, 1.0329, 1.0911, 1.0171, 1.054, 1.0698, 0.9444, 0.8576, 0.8759, 0.8776, 0.7789, 0.7783, 0.8899, 0.9506, 0.919, 0.7715, 0.8813, 0.7933, 0.8972, 0.529, 0.7656, 0.8736, 0.6615, 0.5435, 0.7145, 0.3932, 0.5393, 0.4481, 0.229, 0.5888, 0.518, 0.2571, -0.0144, -0.3308, -0.2887, -0.2603, 0.3718, 0.1565, 0.6301, 0.0632, -0.3562, -0.2303, 0.0346, -1.2289, -0.1973, -0.5842, -0.7763, -0.2952, 1.7952, 1.7263, 1.7164, 1.7142, 1.6831, 1.6574, 1.6521, 1.6394, 1.6195, 1.611, 1.5972, 1.5965, 1.5937, 1.5915, 1.5859, 1.5796, 1.5795, 1.5731, 1.5704, 1.5671, 1.5586, 1.549, 1.5466, 1.5308, 1.5292, 1.5195, 1.5176, 1.5159, 1.5039, 1.4987, 1.4873, 1.452, 1.4709, 1.4754, 1.4723, 1.348, 1.3763, 1.4943, 1.4457, 1.1808, 1.3401, 1.2188, 0.9406, 1.2299, 1.0885, 1.0264, 0.5641, 0.9948, 0.8432, 1.0063, 0.8643, 0.6949, 0.9075, 0.3875, 0.5558, 0.7457, 0.2215, 0.3624, 0.2745, -0.4562, 0.5131, 0.1687, -0.21, -0.4235, 0.222, -0.5615, -0.0916, 0.326, 0.2582, -0.5206, -0.3472, -0.1665, -0.7375, 2.0655, 2.0639, 2.0578, 1.9838, 1.9803, 1.9801, 1.9596, 1.9558, 1.9537, 1.9511, 1.9423, 1.9271, 1.9198, 1.8879, 1.8351, 1.8295, 1.8274, 1.823, 1.8185, 1.8125, 1.8117, 1.8003, 1.7994, 1.7949, 1.7761, 1.7628, 1.7441, 1.7408, 1.7352, 1.7308, 1.7264, 1.7151, 1.6971, 1.6572, 1.5817, 1.6557, 1.662, 1.5784, 1.5892, 1.3637, 1.3603, 0.8344, 1.1462, 1.0862, 0.8124, 0.9003, 0.7248, 0.6114, 0.624, 0.5614, 0.8492, 0.2029, 0.6671, 0.7761, 0.6347, 0.2868, -0.2323, 0.0681, -0.0274, -0.7131, -0.5563, 0.1006, -0.4521, -0.202, 2.1116, 2.1045, 2.0622, 2.0604, 2.0597, 2.0531, 2.0452, 2.0444, 2.0415, 2.0241, 2.0023, 1.9968, 1.9889, 1.9876, 1.9747, 1.9652, 1.9636, 1.9577, 1.9556, 1.9548, 1.9534, 1.919, 1.9182, 1.9004, 1.8999, 1.8864, 1.8734, 1.8629, 1.8601, 1.8351, 1.8058, 1.7549, 1.6443, 1.7554, 1.7392, 1.5968, 1.6262, 1.6621, 1.655, 1.2305, 1.4498, 1.2685, 1.5856, 1.2266, 1.3088, 0.6898, 0.9957, 1.2257, 0.6618, 0.7731, 0.8611, 0.8031, 0.4309, 0.6197, -0.6479, 0.2018, 0.4171, 0.6511, -0.0588, -0.2529, -0.4129, 0.344, 0.2266, 0.2491, 0.7135, -0.1876, -0.2596, -0.4098, 0.0189]}, \"token.table\": {\"Topic\": [2, 4, 5, 1, 2, 3, 4, 5, 1, 2, 3, 4, 5, 1, 2, 3, 4, 5, 1, 2, 3, 4, 5, 1, 2, 3, 4, 5, 1, 2, 3, 4, 5, 1, 3, 4, 1, 2, 3, 5, 1, 2, 3, 4, 5, 1, 2, 5, 1, 2, 4, 1, 2, 3, 4, 5, 1, 2, 5, 1, 2, 3, 4, 5, 1, 2, 3, 4, 5, 1, 2, 3, 4, 5, 1, 2, 3, 4, 5, 1, 2, 3, 4, 5, 2, 4, 5, 1, 2, 3, 4, 5, 1, 2, 3, 4, 5, 1, 2, 3, 4, 5, 1, 2, 3, 4, 5, 1, 2, 3, 4, 5, 1, 2, 3, 4, 5, 1, 2, 3, 4, 5, 1, 2, 3, 4, 5, 1, 2, 3, 4, 5, 1, 2, 3, 4, 5, 1, 2, 3, 4, 1, 2, 3, 4, 5, 1, 3, 1, 2, 3, 4, 5, 1, 2, 3, 4, 5, 1, 2, 3, 4, 5, 1, 2, 3, 4, 5, 1, 2, 3, 4, 5, 1, 2, 4, 1, 2, 3, 4, 5, 1, 2, 3, 1, 2, 3, 4, 5, 1, 2, 3, 4, 5, 1, 2, 3, 4, 5, 1, 2, 3, 4, 5, 1, 3, 4, 1, 2, 3, 4, 1, 2, 3, 4, 5, 1, 2, 3, 4, 5, 1, 2, 3, 4, 5, 1, 2, 3, 4, 5, 1, 2, 5, 1, 2, 3, 5, 1, 2, 3, 4, 5, 1, 2, 3, 4, 5, 1, 2, 5, 1, 2, 3, 4, 5, 1, 2, 3, 4, 5, 2, 3, 4, 5, 1, 2, 3, 1, 2, 3, 4, 5, 1, 2, 3, 5, 1, 2, 3, 4, 5, 1, 2, 3, 5, 1, 2, 3, 4, 5, 1, 2, 3, 4, 5, 1, 2, 3, 4, 5, 1, 2, 3, 4, 5, 1, 2, 3, 4, 5, 1, 2, 3, 4, 5, 1, 2, 3, 4, 5, 1, 2, 5, 1, 2, 3, 4, 5, 1, 2, 3, 4, 5, 1, 2, 3, 4, 5, 1, 2, 3, 4, 5, 1, 2, 3, 4, 5, 1, 2, 3, 4, 5, 1, 2, 3, 4, 5, 1, 2, 3, 4, 1, 2, 3, 4, 5, 1, 2, 3, 4, 5, 1, 2, 3, 4, 5, 1, 2, 3, 5, 1, 2, 4, 5, 1, 2, 3, 1, 2, 3, 4, 5, 1, 4, 5, 1, 4, 5, 1, 2, 3, 4, 5, 1, 2, 3, 4, 5, 1, 2, 3, 4, 5, 1, 2, 3, 4, 5, 1, 2, 3, 4, 5, 1, 2, 4, 3, 4, 1, 2, 3, 4, 1, 2, 3, 5, 1, 2, 3, 4, 5, 1, 2, 3, 4, 5, 1, 2, 3, 4, 5, 1, 2, 3, 4, 5, 1, 2, 3, 4, 5, 1, 2, 3, 4, 5, 1, 2, 3, 4, 5, 1, 2, 3, 4, 5, 1, 2, 3, 4, 5, 1, 2, 3, 4, 5, 1, 2, 3, 4, 5, 1, 2, 3, 4, 5, 1, 2, 3, 4, 5, 1, 2, 3, 4, 5, 1, 2, 3, 4, 5, 1, 2, 3, 4, 5, 1, 2, 3, 4, 5, 1, 2, 3, 4, 5, 1, 2, 3, 4, 5, 1, 2, 3, 4, 1, 2, 3, 4, 5, 1, 2, 3, 4, 5, 1, 2, 3, 4, 5, 1, 2, 3, 4, 5, 1, 2, 3, 4, 5, 1, 2, 3, 4, 5, 1, 2, 4, 1, 2, 3, 4, 5, 1, 2, 4, 5, 1, 2, 3, 4, 5, 1, 2, 3, 4, 5, 1, 3, 4, 1, 2, 3, 4, 5, 1, 2, 3, 5, 1, 2, 3, 5, 1, 2, 3, 4, 1, 2, 3, 4, 5, 1, 2, 3, 4, 5, 1, 2, 3, 4, 5, 1, 2, 5, 1, 2, 3, 4, 5, 1, 2, 3, 4, 5, 1, 2, 3, 4, 5, 1, 2, 3, 4, 5, 1, 2, 3, 4, 5, 1, 2, 3, 4, 5, 1, 1, 2, 3, 4, 5, 1, 2, 3, 4, 5, 1, 2, 3, 4, 5, 1, 2, 3, 4, 5, 1, 2, 3, 4, 5, 1, 2, 3, 4, 5, 1, 2, 3, 4, 5, 1, 2, 3, 4, 5, 1, 2, 3, 4, 5, 1, 2, 3, 4, 5, 1, 2, 3, 4, 5, 1, 2, 3, 4, 5, 1, 2, 3, 4, 5, 1, 2, 3, 4, 5, 1, 2, 3, 4, 5, 1, 2, 3, 4, 5, 1, 2, 3, 4, 5, 1, 2, 3, 4, 5, 1, 2, 3, 4, 5, 1, 2, 3, 4, 5, 1, 2, 3, 4, 5, 1, 2, 3, 4, 5, 1, 2, 3, 4, 5, 1, 2, 3, 4, 5, 1, 2, 3, 4, 5, 1, 2, 3, 4, 5, 1, 2, 3, 4, 5, 4, 5, 1, 2, 3, 4, 5, 1, 2, 3, 4, 5, 1, 2, 3, 5, 1, 2, 3, 4, 5, 1, 2, 3, 4, 5, 1, 2, 3, 4, 5, 1, 2, 3, 4, 5, 1, 2, 4, 5, 1, 2, 3, 4, 5, 2, 3, 4, 5, 1, 2, 3, 4, 5, 1, 2, 3, 4, 5, 1, 2, 3, 4, 5, 1, 2, 3, 1, 2, 3, 1, 2, 3, 4, 5, 1, 2, 3, 4, 5, 1, 2, 3, 4, 5, 1, 2, 3, 5, 1, 2, 3, 4, 5, 1, 2, 3, 5, 1, 2, 3, 4, 5, 1, 2, 3, 4, 5, 1, 2, 3, 4, 5, 1, 4, 1, 2, 3, 4, 5, 1, 2, 3, 4, 5, 1, 2, 1, 2, 3, 4, 5, 1, 2, 3, 4, 5, 1, 3, 4, 1, 2, 3, 4, 5, 2, 3, 4, 1, 2, 3, 4, 5, 1, 2, 3, 4, 5, 1, 2, 3, 4, 5, 1, 2, 3, 4, 5, 1, 2, 3, 4, 5, 1, 2, 3, 4, 1, 2, 3, 4, 5, 1, 1, 2, 3, 4, 5, 1, 2, 5, 1, 2, 3, 4, 5, 1, 2, 3, 4, 5, 1, 2, 3, 4, 5, 1, 2, 4, 5, 1, 2, 3, 4, 5, 1, 2, 3, 4, 5, 1, 2, 3, 4, 5, 1, 2, 3, 4, 5, 1, 2, 3, 4, 5, 1, 3, 4, 1, 2, 3, 4, 1, 2, 3, 4, 5, 1, 2, 3, 4, 1, 2, 3, 5, 1, 2, 3, 4, 5, 1, 2, 3, 4, 5, 1, 2, 3, 4, 5, 1, 2, 3, 4, 5, 1, 2, 3, 4, 5, 1, 2, 3, 4, 1, 2, 3, 4, 5, 1, 2, 3, 4, 5, 1, 1, 2, 3, 4, 5, 1, 2, 5, 1, 2, 3, 4, 5, 1, 2, 3, 4, 1, 2, 3, 4, 5, 1, 2, 3, 4, 5, 1, 2, 3, 4, 5, 1, 2, 3, 4, 5, 1, 2, 3, 4, 1, 2, 3, 4, 5, 1, 2, 3, 4, 5, 1, 2, 3, 4, 5, 1, 2, 3, 4, 5, 1, 2, 3, 4, 5, 1, 2, 3, 4, 5, 1, 2, 3, 4, 5, 1, 2, 3, 4, 5, 1, 3, 5, 1, 2, 5, 1, 2, 3, 4, 5, 1, 2, 3, 4, 5, 1, 2, 3, 4, 1, 2, 3, 4, 5, 1, 2, 3, 4, 5, 1, 2, 3, 4, 5, 1, 2, 3, 4, 5, 1, 2, 3, 4, 5, 1, 2, 3, 4, 5, 1, 2, 3, 4, 5, 1, 2, 3, 4, 1, 2, 3, 4, 5, 1, 2, 3, 4, 5, 1, 2, 3, 4, 5, 1, 2, 3, 4, 5, 1, 2, 3, 4, 5, 1, 2, 3, 4, 5, 1, 2, 3, 5, 1, 2, 3, 4, 5, 1, 4, 5, 1, 2, 3, 4, 5, 1, 1, 2, 3, 4, 5, 1, 2, 3, 4, 5, 1, 2, 3, 4, 5, 1, 2, 3, 4, 5, 1, 2, 3, 4, 1, 2, 3, 5, 1, 2, 3, 4, 5, 1, 2, 3, 4, 5, 1, 2, 3, 4, 5, 1, 2, 3, 4, 5, 1, 2, 3, 4, 5, 1, 2, 3, 4, 5, 1, 2, 3, 4, 5, 1, 2, 3, 4, 5, 1, 2, 3, 4, 5, 1, 2, 3, 4, 5, 1, 2, 3, 4, 5], \"Freq\": [0.11796623611342907, 0.11796623611342907, 0.7077974166805745, 0.12907304005981898, 0.032268260014954746, 0.7099017203290043, 0.09680478004486423, 0.032268260014954746, 0.03438076034660467, 0.03438076034660467, 0.10314228103981402, 0.8251382483185121, 0.03438076034660467, 0.1226154825100929, 0.19807116405476544, 0.09431960193084069, 0.028295880579252208, 0.55648565139196, 0.11970415031561597, 0.04163622619673599, 0.015613584823775997, 0.12490867859020797, 0.7026113170699199, 0.04705693725183126, 0.09411387450366251, 0.674482767276248, 0.17254210325671462, 0.01568564575061042, 0.05830136741200272, 0.2021114070282761, 0.6840693776341653, 0.01943378913733424, 0.031094062619734786, 0.8807113960993211, 0.05871409307328808, 0.05871409307328808, 0.09841515112800545, 0.8611325723700476, 0.01230189389100068, 0.01230189389100068, 0.7962024850339506, 0.02578179475348031, 0.043980708697113464, 0.0712790796125632, 0.062179622640746626, 0.03478136035337461, 0.8695340088343653, 0.03478136035337461, 0.8695576300019086, 0.052700462424358094, 0.052700462424358094, 0.06871764679573804, 0.9085999965214251, 0.011452941132623006, 0.0038176470442076683, 0.007635294088415337, 0.045739216676315135, 0.9330800201968288, 0.018295686670526053, 0.8775796723235684, 0.02742436476011151, 0.02742436476011151, 0.05484872952022302, 0.02742436476011151, 0.38682623998715626, 0.2140802477348274, 0.0725299199975918, 0.2152500851541434, 0.11152450064145836, 0.17221928494167263, 0.05740642831389088, 0.05740642831389088, 0.6888771397666905, 0.05740642831389088, 0.6708021247466003, 0.10293928052603815, 0.10067687875623511, 0.06787205309409108, 0.058822446014878946, 0.4175160311731753, 0.2070607959476723, 0.0970597481004714, 0.0601452209540626, 0.21819879982805426, 0.14968950683404636, 0.04989650227801545, 0.7983440364482473, 0.0861236818317568, 0.0861236818317568, 0.6889894546540544, 0.0861236818317568, 0.0861236818317568, 0.0770861617094114, 0.13490078299146996, 0.7130469958120554, 0.057814621282058554, 0.01927154042735285, 0.20597078721885848, 0.628030224888379, 0.08455642843721559, 0.04263956647688649, 0.0383033393775421, 0.21995146727456072, 0.03566780550398282, 0.041612439754646624, 0.6717436703250098, 0.03566780550398282, 0.184635904753169, 0.184635904753169, 0.09864109979963823, 0.4780299451828622, 0.05311443835365135, 0.06137810189382459, 0.03836131368364037, 0.0076722627367280735, 0.8669656892502723, 0.015344525473456147, 0.5570151548164017, 0.1682202932881583, 0.05964954277309695, 0.04634640733449259, 0.16864942668940358, 0.09931991540690212, 0.691790799674464, 0.10552741011983349, 0.05517773078161228, 0.04828051443391075, 0.014556858833889703, 0.2984156060947389, 0.6550586475250366, 0.014556858833889703, 0.021835288250834556, 0.16148877041861137, 0.17375374032382235, 0.48310353682192175, 0.09743837202473175, 0.0844920149025646, 0.13140661519907265, 0.08760441013271511, 0.7008352810617209, 0.043802205066357555, 0.22687337370148783, 0.3678814774951209, 0.09531832714541676, 0.051204060036794126, 0.25917131926315795, 0.13624214944231616, 0.6812107472115808, 0.2596672806232242, 0.4509489033723932, 0.13181583329346877, 0.09415416663819198, 0.06293462717394938, 0.8397934518901145, 0.029992623281789803, 0.07498155820447451, 0.007498155820447451, 0.04498893492268471, 0.17290301840497221, 0.09114267636851248, 0.6339777341515648, 0.06433600684836176, 0.037529337328211024, 0.03662757494102943, 0.03662757494102943, 0.8882186923199638, 0.009156893735257358, 0.027470681205772077, 0.06434468610634837, 0.052854563587357586, 0.039066416564568655, 0.5974863709875206, 0.2458886219064027, 0.07853654397930561, 0.8639019837723617, 0.039268271989652805, 0.03829622036574233, 0.9446401023549774, 0.004255135596193592, 0.008510271192387184, 0.004255135596193592, 0.05115181063103667, 0.8695807807276235, 0.05115181063103667, 0.03056724632113687, 0.11207990317750186, 0.16557258423949137, 0.6444594432706356, 0.048398140008466706, 0.7325385535683702, 0.24473828105487883, 0.013410316770130347, 0.00502886878879888, 0.0033525791925325867, 0.042605776980329774, 0.12071636811093436, 0.6461876175350015, 0.15622118226120918, 0.03550481415027481, 0.06662334389280143, 0.8772073612552189, 0.02220778129760048, 0.01110389064880024, 0.02220778129760048, 0.24480658524064447, 0.693618658181826, 0.04080109754010741, 0.02078018698714883, 0.8727678534602509, 0.08312074794859532, 0.02078018698714883, 0.12157863512724414, 0.08105242341816275, 0.7294718107634648, 0.06078931756362207, 0.020263105854540688, 0.11264686485677584, 0.07509790990451723, 0.6758811891406551, 0.06883975074580746, 0.07509790990451723, 0.8299333545085623, 0.11148358493398598, 0.02477412998533022, 0.02477412998533022, 0.01238706499266511, 0.1150506263584389, 0.208969505018389, 0.36745761275705485, 0.2606248882813616, 0.04930741129647381, 0.03500472351694092, 0.910122811440464, 0.03500472351694092, 0.137525219464453, 0.137525219464453, 0.7334678371437494, 0.04584173982148434, 0.13618132674721797, 0.36402316188198647, 0.07332840671004044, 0.053686869198422464, 0.3731892127207415, 0.1773583102274609, 0.6946533817242219, 0.05419281701394639, 0.041876267692594935, 0.027096408506973195, 0.02944100990121561, 0.9421123168388995, 0.02944100990121561, 0.5239705709429469, 0.1274943229000642, 0.12438470526835532, 0.14381981546653586, 0.08085005842443097, 0.026723409429790825, 0.16034045657874496, 0.7749788734639339, 0.026723409429790825, 0.013361704714895412, 0.11015345894042203, 0.055076729470211014, 0.055076729470211014, 0.7710742125829542, 0.9370017489160279, 0.02179073834688437, 0.02179073834688437, 0.26545633937974605, 0.116760871080565, 0.2025851011055957, 0.042912115012515344, 0.3732356049925753, 0.9581539271378676, 0.009302465312018131, 0.018604930624036262, 0.018604930624036262, 0.9357097429151661, 0.007797581190959717, 0.011696371786439577, 0.03119032476383887, 0.011696371786439577, 0.14669758602289337, 0.048899195340964464, 0.048899195340964464, 0.7334879301144669, 0.14093696689448937, 0.012812451535862671, 0.10249961228690137, 0.012812451535862671, 0.7303097375441722, 0.07464221552125697, 0.07464221552125697, 0.7464221552125697, 0.07464221552125697, 0.07464221552125697, 0.05363685689465589, 0.09297055195073686, 0.08224318057180569, 0.742870467990984, 0.028606323677149804, 0.11550138048544414, 0.6903832515379957, 0.12075144323478251, 0.03937547062003778, 0.034125407870699405, 0.0523101100625792, 0.07370970054272523, 0.01426639365343069, 0.011888661377858909, 0.8464726901035543, 0.08824391088056856, 0.7059512870445485, 0.15518756741065504, 0.027386041307762655, 0.02434314782912236, 0.8483506169889607, 0.011017540480376115, 0.0771227833626328, 0.03305262144112834, 0.02203508096075223, 0.09562513899827088, 0.04781256949913544, 0.8128136814853025, 0.06167258942594569, 0.8510817340780505, 0.024669035770378274, 0.012334517885189137, 0.04933807154075655, 0.2282558975710411, 0.48359300332847693, 0.10445608871895101, 0.12379980885209009, 0.059578658010068355, 0.18256400181263857, 0.5410773676910811, 0.148167885529098, 0.055562957073411745, 0.07276101521518204, 0.168292136262983, 0.253296837742755, 0.13566406902832304, 0.28678353832569553, 0.15541263603877511, 0.22697389491038822, 0.18680152412978854, 0.5021546347574961, 0.038163752241569704, 0.048206844936719624, 0.19202857295830814, 0.5883168381716319, 0.04525514139781785, 0.10151829016267246, 0.0721636038505744, 0.20703786709344466, 0.1317513699685557, 0.014116218210916682, 0.0705810910545834, 0.5740595405772784, 0.035324226267732364, 0.8831056566933092, 0.035324226267732364, 0.035324226267732364, 0.8520984924087676, 0.055875310977624104, 0.05121903506282209, 0.018625103659208032, 0.018625103659208032, 0.021335859328643837, 0.8587683379779144, 0.03733775382512671, 0.05333964832160959, 0.03200378899296575, 0.003449211519736567, 0.013796846078946268, 0.006898423039473134, 0.8933457836117709, 0.0827810764736776, 0.04974559496602877, 0.8954207093885178, 0.016581864988676257, 0.033163729977352514, 0.0628615745616846, 0.0628615745616846, 0.7543388947402152, 0.1257231491233692, 0.015808340069280582, 0.9643087442261156, 0.015808340069280582, 0.16020976538412085, 0.05654462307674853, 0.10366514230737231, 0.014136155769187133, 0.6643993211517953, 0.16063584014721502, 0.7496339206870035, 0.05354528004907168, 0.13852591621249305, 0.6926295810624653, 0.13852591621249305, 0.5891072626122048, 0.1802175175667928, 0.13176280765496645, 0.03995388361150595, 0.058655701472210865, 0.03237380023277478, 0.02158253348851652, 0.15107773441961564, 0.7553886720980781, 0.03237380023277478, 0.4314154338294507, 0.13347310342817315, 0.09425351853458673, 0.2315220656621392, 0.10943529333210406, 0.03850734572870369, 0.15402938291481477, 0.7316395688453702, 0.019253672864351846, 0.03850734572870369, 0.633431245470634, 0.132583361812794, 0.07096870133844342, 0.07808590634373144, 0.08499976263458267, 0.05079012440639221, 0.025395062203196105, 0.8888271771118637, 0.1289047336377905, 0.7734284018267431, 0.11933803581158216, 0.02386760716231643, 0.8353662506810751, 0.02386760716231643, 0.1303815937477651, 0.04346053124925503, 0.04346053124925503, 0.7822895624865905, 0.1511575061877306, 0.49614377629082873, 0.19527524722816875, 0.08751224042447563, 0.06979281984266031, 0.24714152117485616, 0.5197518250662051, 0.09715868962217628, 0.05754058317429857, 0.07829292464699641, 0.2507463954283998, 0.2841274945101992, 0.26064427945846824, 0.15040902202554943, 0.0541472479291978, 0.09623820268220044, 0.21172404590084098, 0.0625548317434303, 0.052931011475210246, 0.5774292160932026, 0.09764887211832417, 0.051394143220170614, 0.025697071610085307, 0.020557657288068246, 0.8017486342346616, 0.29010444662620416, 0.33549976345768845, 0.24754633709668766, 0.058872051515831164, 0.0680929752472264, 0.7249449117045575, 0.03872109320677162, 0.15488437282708648, 0.07313984272390195, 0.010755859224103229, 0.5042620629837571, 0.17665231505800405, 0.10599138903480243, 0.1100062143770298, 0.10358249382946602, 0.26202400816886245, 0.23657810711309366, 0.11450655475095958, 0.30191217739141896, 0.08493429136182287, 0.3343921767013687, 0.3368802137303967, 0.08807651082759266, 0.08608608120437022, 0.15425829579973854, 0.023241152857959902, 0.8599226557445164, 0.06972345857387971, 0.023241152857959902, 0.023241152857959902, 0.9090322600133103, 0.013773216060807732, 0.027546432121615463, 0.013773216060807732, 0.041319648182423195, 0.03345298137617305, 0.0669059627523461, 0.03345298137617305, 0.16726490688086526, 0.7359655902758071, 0.05383737543306801, 0.023073160899886293, 0.015382107266590861, 0.015382107266590861, 0.8998532750955653, 0.02828919380702858, 0.042433790710542874, 0.007072298451757145, 0.021216895355271437, 0.9052542018249146, 0.30931851960474466, 0.3071554530340821, 0.18515849844871426, 0.06143109060681642, 0.13713842058000567, 0.6625028963545957, 0.09278752049784254, 0.1094892741874542, 0.09464327090779939, 0.040826509019050716, 0.13582418799692042, 0.6795467211381975, 0.05960936150335066, 0.07536326418637905, 0.04981639497065733, 0.36290840157737425, 0.22847067386753725, 0.11680655030526824, 0.08154419549613065, 0.21010486407111142, 0.895539488154455, 0.06396710629674679, 0.021322368765582262, 0.021322368765582262, 0.5098504866843239, 0.10402861408194929, 0.091898068976987, 0.2290099878906516, 0.0650638328357068, 0.5249133933917496, 0.2330819812505944, 0.08556982325364287, 0.0996186002057335, 0.05619510780836249, 0.5637581992553108, 0.12828735640674088, 0.1224026152871656, 0.07767858277839355, 0.10827923660018496, 0.08085779148195837, 0.08085779148195837, 0.7277201233376254, 0.04042889574097919, 0.04042889574097919, 0.1493815159195025, 0.6237687624206253, 0.09386811473320089, 0.058541404887372604, 0.07469075795975125, 0.011596949182876357, 0.003865649727625452, 0.12370079128401447, 0.854308589805225, 0.007731299455250904, 0.8713549722508968, 0.05445968576568105, 0.05445968576568105, 0.03743071148620977, 0.10106292101276639, 0.018715355743104886, 0.20961198432277472, 0.6325790241169451, 0.055988238526498535, 0.055988238526498535, 0.11197647705299707, 0.7838353393709795, 0.0626564170193652, 0.0626564170193652, 0.1253128340387304, 0.6892205872130172, 0.0626564170193652, 0.06629009904350004, 0.8783438123263755, 0.01657252476087501, 0.01657252476087501, 0.01657252476087501, 0.08004415411537025, 0.8004415411537025, 0.08004415411537025, 0.018051484737375854, 0.9386772063435443, 0.018051484737375854, 0.018051484737375854, 0.018051484737375854, 0.06951391224037767, 0.8689239030047209, 0.03475695612018884, 0.03475695612018884, 0.08983013043496482, 0.08983013043496482, 0.08983013043496482, 0.7186410434797186, 0.11412176316815262, 0.11412176316815262, 0.6847305790089158, 0.11412176316815262, 0.070791269488291, 0.8821681274694725, 0.021781929073320307, 0.005445482268330077, 0.027227411341650385, 0.08516085680317396, 0.2199988800748661, 0.0798383032529756, 0.07451574970277722, 0.5411262776035013, 0.05575208619838235, 0.900610623204638, 0.025731732091561085, 0.004288622015260181, 0.012865866045780543, 0.058313959695204094, 0.9038663752756635, 0.029156979847602047, 0.20143746614106603, 0.2879809701127833, 0.06266943391055388, 0.04327175198585863, 0.4058591910397775, 0.01737611276393215, 0.12742482693550242, 0.005792037587977383, 0.005792037587977383, 0.8456374878446979, 0.6701999478207525, 0.13803125476209047, 0.14634639059113208, 0.021619353155508145, 0.024945407487124784, 0.291159210917261, 0.15006525156519893, 0.0823727739569842, 0.08808177809261676, 0.3890278532423907, 0.2719886096287554, 0.16598279254267634, 0.4003114408382194, 0.09066286987625179, 0.07113548251828986, 0.2699473102953655, 0.11997658235349577, 0.0942673147063181, 0.04927609632375719, 0.4670516955903943, 0.9072597692766053, 0.2302400673567775, 0.09694318625548526, 0.03332422027532306, 0.602865439526299, 0.039383169416290886, 0.40866308840878734, 0.19592495674342367, 0.1753373956145175, 0.13587790345078068, 0.08406587460970016, 0.19508801471044837, 0.2985575926059432, 0.1513299553361422, 0.11805559768693022, 0.23702282161082514, 0.049988588349794555, 0.8664688647297722, 0.0333257255665297, 0.0333257255665297, 0.01666286278326485, 0.393749520261011, 0.37277407852748057, 0.06918215870006549, 0.09751740455062423, 0.0666062272591056, 0.2432400070455925, 0.24420142999834188, 0.35188080070627215, 0.09133518051119087, 0.0682610296452058, 0.387329928101881, 0.13205545077237768, 0.2582199520679207, 0.055964020029929576, 0.16592841026417718, 0.3062489737403477, 0.42711367834330666, 0.09225421897230685, 0.10042864343820745, 0.0741537076549555, 0.5882826105296096, 0.12724334983307112, 0.08715297933771994, 0.10109745603175513, 0.09586827727149193, 0.4816757827986963, 0.0843671631506756, 0.09395434078143419, 0.2828217401073785, 0.057283386343782584, 0.22852463478448626, 0.11549094446097694, 0.039316066199481504, 0.5946555012671578, 0.022115287237208348, 0.04448209411362861, 0.059309458818171484, 0.08896418822725723, 0.7502646540498692, 0.05634398587726291, 0.6296667378757247, 0.09942106387511443, 0.10888973662512533, 0.0867961668750999, 0.07259315775008356, 0.2284994456562359, 0.17273469999013072, 0.4134751873779507, 0.15233296377082395, 0.03400289369884463, 0.22730525953843989, 0.49435407672623893, 0.18198365871022334, 0.04253257923878783, 0.05368866559650268, 0.06411357993262891, 0.08014197491578613, 0.11219876488210058, 0.06411357993262891, 0.6892209842757607, 0.05694121102939301, 0.8098305568624783, 0.05061440980390489, 0.040672293592423574, 0.04157612233892188, 0.38123554936289905, 0.2851682358629643, 0.10213472277361488, 0.09101113910520137, 0.1405616481735888, 0.8157534933799269, 0.11773761760122656, 0.03363931931463616, 0.01681965965731808, 0.025229489485977117, 0.04000979029798481, 0.8602104914066733, 0.06001468544697721, 0.020004895148992403, 0.020004895148992403, 0.05066795336214164, 0.02533397668107082, 0.05066795336214164, 0.02533397668107082, 0.8613552071564079, 0.11278198849793951, 0.6281089205577554, 0.213071202885338, 0.030190870767140728, 0.015962989141246824, 0.9260017570645984, 0.03631379439469013, 0.009078448598672533, 0.0272353457960176, 0.009078448598672533, 0.28205598051454095, 0.05185782601388421, 0.07652191399609744, 0.022134437932755456, 0.5666416110785396, 0.04735910800712535, 0.8429921225268313, 0.04735910800712535, 0.04735910800712535, 0.01894364320285014, 0.031762260862289685, 0.14293017388030357, 0.14293017388030357, 0.6431857824613662, 0.031762260862289685, 0.003653104245128667, 0.018265521225643334, 0.010959312735386, 0.9662460728365323, 0.0018265521225643334, 0.7377881014589045, 0.1475576202917809, 0.30512004862684156, 0.16061372092121826, 0.18500491636197633, 0.2765869520735019, 0.07271337508754294, 0.13407531345469778, 0.10428079935365384, 0.655479310222967, 0.07448628525260988, 0.014897257050521976, 0.10252150884238383, 0.05126075442119191, 0.05126075442119191, 0.7689113163178787, 0.05393593547334817, 0.7968392371717272, 0.057788502292873044, 0.03210472349604058, 0.05843059676279386, 0.06313952547943741, 0.7410586411533969, 0.07892440684929676, 0.056493259639496626, 0.05981639255946702, 0.29854493615912314, 0.1005595061681016, 0.1353137830873888, 0.25353529883742326, 0.21222898610548352, 0.047876192130688146, 0.8904971736307995, 0.009575238426137628, 0.009575238426137628, 0.02872571527841289, 0.922390210518631, 0.02795121850056458, 0.02795121850056458, 0.02795121850056458, 0.028426861562054026, 0.19898803093437817, 0.715409349311693, 0.04264029234308104, 0.014213430781027013, 0.02395568384024646, 0.02395568384024646, 0.8624046182488726, 0.09582273536098584, 0.07677479407568116, 0.885469291672856, 0.020473278420181644, 0.005118319605045411, 0.015354958815136231, 0.13437322221897954, 0.06879908977611753, 0.663266224872883, 0.11072353510843914, 0.021499715555036727, 0.8854798032497566, 0.018194790477734726, 0.0727791619109389, 0.0060649301592449086, 0.018194790477734726, 0.048211634257762155, 0.8678094166397188, 0.048211634257762155, 0.04870375088076665, 0.11364208538845552, 0.8279637649730331, 0.042597002681245645, 0.8661390545186615, 0.042597002681245645, 0.028398001787497098, 0.014199000893748549, 0.2308377873966727, 0.22320678616041906, 0.22893003708760928, 0.09347976514410712, 0.22320678616041906, 0.06428192795739048, 0.02856974575884021, 0.1499911652339111, 0.6856738982121651, 0.07142436439710052, 0.04421260405897799, 0.9284646852385379, 0.022106302029488996, 0.022106302029488996, 0.27078800930423497, 0.026205291222990482, 0.6813375717977526, 0.00873509707433016, 0.00873509707433016, 0.042198674886683434, 0.8861721726203522, 0.042198674886683434, 0.042198674886683434, 0.1863125778222842, 0.1863125778222842, 0.2447469772301824, 0.26676573642736146, 0.11602192346205879, 0.23775492347808078, 0.29357564464249974, 0.14265295408684847, 0.12266775762057501, 0.2032976881914024, 0.2758665074920936, 0.13766226503534731, 0.29700362692665483, 0.16421915868389855, 0.1251967843431702, 0.9341915321421601, 0.03336398329079143, 0.20254974049483393, 0.06751658016494465, 0.6451584326872488, 0.06751658016494465, 0.01500368448109881, 0.9014437133621017, 0.07269707365823401, 0.014539414731646803, 0.014539414731646803, 0.014539414731646803, 0.8776023819436185, 0.08776023819436185, 0.012100694752479803, 0.03630208425743941, 0.024201389504959606, 0.8712500221785457, 0.06050347376239901, 0.12497782917285243, 0.05356192678836533, 0.03570795119224355, 0.6963050482487493, 0.08926987798060888, 0.9310966062974677, 0.025863794619374103, 0.025863794619374103, 0.19391865833108082, 0.021546517592342315, 0.04309303518468463, 0.010773258796171158, 0.7325815981396386, 0.03637490170249844, 0.07274980340499689, 0.8729976408599626, 0.15563725478818363, 0.1498729120182509, 0.10664034124375545, 0.4803618974943939, 0.10856178883373302, 0.21302030336237762, 0.5586492723940499, 0.06771506332049089, 0.09663503828028389, 0.06348287186296021, 0.6189919846861749, 0.15084678618402583, 0.06371976312945918, 0.12353831627140045, 0.042913309862697, 0.06155938667052573, 0.02308477000144715, 0.0923390800057886, 0.015389846667631433, 0.8079669500506502, 0.8592402154551558, 0.06966812557744506, 0.02322270852581502, 0.02322270852581502, 0.02322270852581502, 0.030327417929091233, 0.9401499558018283, 0.010109139309697078, 0.020218278619394157, 0.028512202100242082, 0.005702440420048417, 0.0028512202100242083, 0.9608612107781581, 0.0028512202100242083, 0.9688484291803777, 0.8411633258307462, 0.050326010947138664, 0.050326010947138664, 0.035947150676527616, 0.028757720541222092, 0.9473069880563625, 0.017873716755780426, 0.017873716755780426, 0.19095545967533073, 0.017359587243211884, 0.15044975610783634, 0.017359587243211884, 0.6249451407556279, 0.09446148497227001, 0.6932134172768162, 0.08032945178744222, 0.03718956101270473, 0.09594906741277821, 0.43310528470418735, 0.2018583818259734, 0.08816556315672165, 0.22631306357747286, 0.05083999627285409, 0.05956574484280134, 0.05956574484280134, 0.05956574484280134, 0.8339204277992187, 0.11485384201673746, 0.1468847939735965, 0.07824703978032711, 0.3637800972243278, 0.29651509811492377, 0.877745250315793, 0.05851635002105286, 0.02507843572330837, 0.016718957148872247, 0.016718957148872247, 0.172908892227817, 0.07537054276597152, 0.0886712267834959, 0.031034929374223565, 0.6339992715019956, 0.21959753518552275, 0.18689151930682787, 0.023361439913353484, 0.03737830386136558, 0.5326408300244595, 0.05357137985336854, 0.02922075264729193, 0.05113631713276088, 0.0048701254412153215, 0.862012203095112, 0.9264121341742625, 0.04411486353210774, 0.04411486353210774, 0.8885845529271255, 0.044429227646356276, 0.044429227646356276, 0.044429227646356276, 0.9192246532015261, 0.032829451900054506, 0.009379843400015573, 0.018759686800031147, 0.023449608500038934, 0.11954382814284106, 0.039847942714280354, 0.7969588542856071, 0.039847942714280354, 0.7483170728939679, 0.2392161134661045, 0.006133746499130885, 0.0030668732495654424, 0.03991567559981066, 0.15966270239924263, 0.14635747719930572, 0.6453034221969389, 0.013305225199936885, 0.36235003307633035, 0.21442436414254754, 0.12553325115940284, 0.16353250556441126, 0.1340152275890922, 0.6672802451416494, 0.035853863918058775, 0.20516377686444745, 0.08166713448002277, 0.01195128797268626, 0.14230921833017396, 0.825393466315009, 0.010673191374763047, 0.0035577304582543492, 0.017788652291271745, 0.11947149628368668, 0.09155759528282531, 0.7425097666229126, 0.0066993362402067306, 0.04019601744124038, 0.9158144104413383, 0.029542400336817362, 0.029542400336817362, 0.029542400336817362, 0.06981497448388849, 0.09050089284948508, 0.04783618622044211, 0.7382287116722283, 0.05300766581184126, 0.18521861746711063, 0.48917456180577024, 0.21831410710856927, 0.04848198921161046, 0.058642885154163556, 0.9063318566702728, 0.19842060859271413, 0.1687250073067297, 0.5709654247259733, 0.03779440163670745, 0.024296401052169077, 0.09094579353325924, 0.09094579353325924, 0.8185121417993331, 0.15963836197713238, 0.16876055409011137, 0.5655759110046975, 0.027366576338936976, 0.07753863296032143, 0.05408143369132171, 0.04056107526849129, 0.013520358422830428, 0.8923436559068083, 0.2900103243801378, 0.10518509174409142, 0.40571392529863837, 0.13974590760286432, 0.05860312254313665, 0.09819690585722808, 0.14283186306505902, 0.6248894009096332, 0.035707965766264754, 0.09819690585722808, 0.2940738078390402, 0.06777701094956926, 0.20557159519414808, 0.3864970045884528, 0.04649166866788635, 0.0868626556108974, 0.7439975284933386, 0.0830860184104236, 0.0339897348042642, 0.052872920806633195, 0.04910586293321856, 0.04910586293321856, 0.06547448391095807, 0.8511682908424549, 0.10867927553759314, 0.07245285035839542, 0.07245285035839542, 0.03622642517919771, 0.7245285035839543, 0.3802621499845739, 0.22126541636622268, 0.0725460381528599, 0.23940192590443765, 0.08705524578343188, 0.16389215959993425, 0.14677683913538414, 0.1918990476328344, 0.12240047362526735, 0.3744624659213687, 0.18456733243740106, 0.1773293978320128, 0.43970452727733783, 0.06333192779714743, 0.13390179019968312, 0.21814615230664453, 0.7016659744296195, 0.022489294052231396, 0.029236082267900816, 0.026987152862677676, 0.04981219422240424, 0.1245304855560106, 0.7720890104472656, 0.04981219422240424, 0.02490609711120212, 0.12343639334824434, 0.6370452944064564, 0.16174423955976844, 0.056752364757813485, 0.01986332766523472, 0.062126756634093006, 0.17602581046326352, 0.6937487824140386, 0.010354459439015501, 0.051772297195077505, 0.895125184211498, 0.04262500877197609, 0.04262500877197609, 0.04750549255645686, 0.04750549255645686, 0.8550988660162236, 0.12122252047507098, 0.6191472819963303, 0.18900285450414292, 0.04431791071131627, 0.02476589127985321, 0.3556124604503367, 0.36237887090288007, 0.05939404730565877, 0.11953991799493346, 0.10325041134992158, 0.11621806396149159, 0.010565278541953781, 0.17960973521321427, 0.6867431052269958, 0.13359116397157797, 0.10152928461839925, 0.6465812336224374, 0.09618563805953613, 0.021374586235452474, 0.20500473570073127, 0.11903500782623105, 0.505898783261482, 0.06282403190828861, 0.10250236785036564, 0.5673834703765688, 0.2288555642692289, 0.06568451909545402, 0.04725718794650311, 0.09065058065209716, 0.5434713748257487, 0.1360723612835166, 0.10471299946467008, 0.13143662953638277, 0.08453393185949928, 0.5442659459691932, 0.16148550045239798, 0.11662841699339854, 0.05457611820844932, 0.12260936145459847, 0.4878927267408802, 0.22219731966342815, 0.12010665927752873, 0.09738377779259086, 0.0723886081591592, 0.24695174630227787, 0.3524532834883776, 0.06330092231165983, 0.09299765129737679, 0.2446072676981423, 0.8748752282531649, 0.0699900182602532, 0.0349950091301266, 0.0349950091301266, 0.3208936050949542, 0.12033510191060781, 0.37979179843516725, 0.10307183834537294, 0.07565371385941166, 0.08921783511205143, 0.08921783511205143, 0.7583515984524372, 0.044608917556025716, 0.044608917556025716, 0.02063911935439727, 0.0068797064514657565, 0.0017199266128664391, 0.9683186830438052, 0.0017199266128664391, 0.18716621333296085, 0.12075239569868441, 0.5856491191386194, 0.01811285935480266, 0.0875454868815462, 0.5850688667459506, 0.12540675459024964, 0.09466502097474097, 0.08832148864138203, 0.10686412161581584, 0.11315696861773153, 0.09699168738662703, 0.7274376553997026, 0.03233056246220901, 0.03233056246220901, 0.07878127670901572, 0.03939063835450786, 0.8272034054446651, 0.03939063835450786, 0.004694216181265831, 0.046942161812658305, 0.009388432362531661, 0.8355704802653178, 0.10327275598784827, 0.9733783736437053, 0.016497938536333988, 0.016497938536333988, 0.11118190821549367, 0.05559095410774684, 0.05559095410774684, 0.7226824034007089, 0.05559095410774684, 0.9105326426612658, 0.5870425508915068, 0.15240527763529504, 0.08090650541132946, 0.05362407916797418, 0.12606362471067614, 0.07992111994729693, 0.07992111994729693, 0.03996055997364847, 0.03996055997364847, 0.7992111994729694, 0.6041759094282597, 0.2158806007309609, 0.08456091865117565, 0.07033571738275358, 0.024894102219738628, 0.9463571911057483, 0.018927143822114967, 0.018927143822114967, 0.009463571911057483, 0.009463571911057483, 0.15982814163819556, 0.03995703540954889, 0.03995703540954889, 0.759183672781429, 0.059277836207096875, 0.8891675431064531, 0.019759278735698958, 0.019759278735698958, 0.3626925442892361, 0.2115706508353877, 0.3126064310302463, 0.04663189855147321, 0.06649363311969328, 0.0692961426378926, 0.0346480713189463, 0.10394421395683891, 0.7622575690168186, 0.0346480713189463, 0.1555935910109415, 0.038898397752735375, 0.02431149859545961, 0.009724599438183844, 0.7731056553356156, 0.1597825907130244, 0.34131961865927746, 0.3443202306914469, 0.0540110165790505, 0.1005205030776773, 0.14446337544009866, 0.048154458480032886, 0.048154458480032886, 0.7223168772004933, 0.048154458480032886, 0.05278195909326159, 0.8577068352655008, 0.043984965911051326, 0.030789476137735926, 0.008796993182210264, 0.07188245223413683, 0.05750596178730947, 0.007188245223413684, 0.007188245223413684, 0.8554011815862284, 0.0999177658380668, 0.036836042705278085, 0.042361449111069795, 0.03959874590817394, 0.7813845558857114, 0.4788660332337348, 0.1636557803109274, 0.13369063743709564, 0.14809695612643783, 0.07606536267972683, 0.12968997702830853, 0.7238510345766058, 0.03619255172883029, 0.07841719541246563, 0.03619255172883029, 0.27103545555787806, 0.4177559821665427, 0.11708731680100332, 0.14093843689009658, 0.052038807467112584], \"Term\": [\"abduction\", \"abduction\", \"abduction\", \"accepting\", \"accepting\", \"accepting\", \"accepting\", \"accepting\", \"affliction\", \"affliction\", \"affliction\", \"affliction\", \"affliction\", \"ahead\", \"ahead\", \"ahead\", \"ahead\", \"ahead\", \"alarm\", \"alarm\", \"alarm\", \"alarm\", \"alarm\", \"amen\", \"amen\", \"amen\", \"amen\", \"amen\", \"american\", \"american\", \"american\", \"american\", \"american\", \"amour\", \"amour\", \"amour\", \"angeles\", \"angeles\", \"angeles\", \"angeles\", \"anymore\", \"anymore\", \"anymore\", \"anymore\", \"anymore\", \"arizona\", \"arizona\", \"arizona\", \"asks\", \"asks\", \"asks\", \"august\", \"august\", \"august\", \"august\", \"august\", \"australia\", \"australia\", \"australia\", \"avoiding\", \"avoiding\", \"avoiding\", \"avoiding\", \"avoiding\", \"away\", \"away\", \"away\", \"away\", \"away\", \"awhile\", \"awhile\", \"awhile\", \"awhile\", \"awhile\", \"babe\", \"babe\", \"babe\", \"babe\", \"babe\", \"baby\", \"baby\", \"baby\", \"baby\", \"baby\", \"badda\", \"badda\", \"badda\", \"basket\", \"basket\", \"basket\", \"basket\", \"basket\", \"bastard\", \"bastard\", \"bastard\", \"bastard\", \"bastard\", \"beat\", \"beat\", \"beat\", \"beat\", \"beat\", \"beating\", \"beating\", \"beating\", \"beating\", \"beating\", \"beautiful\", \"beautiful\", \"beautiful\", \"beautiful\", \"beautiful\", \"behave\", \"behave\", \"behave\", \"behave\", \"behave\", \"better\", \"better\", \"better\", \"better\", \"better\", \"bitch\", \"bitch\", \"bitch\", \"bitch\", \"bitch\", \"bodied\", \"bodied\", \"bodied\", \"bodied\", \"bodied\", \"body\", \"body\", \"body\", \"body\", \"body\", \"borrowed\", \"borrowed\", \"borrowed\", \"borrowed\", \"bout\", \"bout\", \"bout\", \"bout\", \"bout\", \"braggin\", \"braggin\", \"break\", \"break\", \"break\", \"break\", \"break\", \"breakin\", \"breakin\", \"breakin\", \"breakin\", \"breakin\", \"breathe\", \"breathe\", \"breathe\", \"breathe\", \"breathe\", \"breathin\", \"breathin\", \"breathin\", \"breathin\", \"breathin\", \"bright\", \"bright\", \"bright\", \"bright\", \"bright\", \"brilliant\", \"brilliant\", \"brilliant\", \"buck\", \"buck\", \"buck\", \"buck\", \"buck\", \"buffet\", \"buffet\", \"buffet\", \"cake\", \"cake\", \"cake\", \"cake\", \"cake\", \"california\", \"california\", \"california\", \"california\", \"california\", \"calm\", \"calm\", \"calm\", \"calm\", \"calm\", \"canada\", \"canada\", \"canada\", \"canada\", \"canada\", \"captured\", \"captured\", \"captured\", \"carriage\", \"carriage\", \"carriage\", \"carriage\", \"celebrate\", \"celebrate\", \"celebrate\", \"celebrate\", \"celebrate\", \"champion\", \"champion\", \"champion\", \"champion\", \"champion\", \"charlie\", \"charlie\", \"charlie\", \"charlie\", \"charlie\", \"check\", \"check\", \"check\", \"check\", \"check\", \"chinese\", \"chinese\", \"chinese\", \"christ\", \"christ\", \"christ\", \"christ\", \"city\", \"city\", \"city\", \"city\", \"city\", \"clear\", \"clear\", \"clear\", \"clear\", \"clear\", \"columbus\", \"columbus\", \"columbus\", \"crazy\", \"crazy\", \"crazy\", \"crazy\", \"crazy\", \"cream\", \"cream\", \"cream\", \"cream\", \"cream\", \"crisis\", \"crisis\", \"crisis\", \"crisis\", \"damned\", \"damned\", \"damned\", \"dance\", \"dance\", \"dance\", \"dance\", \"dance\", \"dancefloor\", \"dancefloor\", \"dancefloor\", \"dancefloor\", \"daylight\", \"daylight\", \"daylight\", \"daylight\", \"daylight\", \"decoration\", \"decoration\", \"decoration\", \"decoration\", \"demo\", \"demo\", \"demo\", \"demo\", \"demo\", \"desk\", \"desk\", \"desk\", \"desk\", \"desk\", \"diamond\", \"diamond\", \"diamond\", \"diamond\", \"diamond\", \"dick\", \"dick\", \"dick\", \"dick\", \"dick\", \"dirt\", \"dirt\", \"dirt\", \"dirt\", \"dirt\", \"dirty\", \"dirty\", \"dirty\", \"dirty\", \"dirty\", \"dish\", \"dish\", \"dish\", \"dish\", \"dish\", \"disobey\", \"disobey\", \"disobey\", \"diva\", \"diva\", \"diva\", \"diva\", \"diva\", \"dont\", \"dont\", \"dont\", \"dont\", \"dont\", \"drake\", \"drake\", \"drake\", \"drake\", \"drake\", \"dream\", \"dream\", \"dream\", \"dream\", \"dream\", \"drink\", \"drink\", \"drink\", \"drink\", \"drink\", \"drive\", \"drive\", \"drive\", \"drive\", \"drive\", \"drum\", \"drum\", \"drum\", \"drum\", \"drum\", \"duke\", \"duke\", \"duke\", \"duke\", \"edge\", \"edge\", \"edge\", \"edge\", \"edge\", \"eheh\", \"eheh\", \"eheh\", \"eheh\", \"eheh\", \"ella\", \"ella\", \"ella\", \"ella\", \"ella\", \"england\", \"england\", \"england\", \"england\", \"entity\", \"entity\", \"entity\", \"entity\", \"episode\", \"episode\", \"episode\", \"escape\", \"escape\", \"escape\", \"escape\", \"escape\", \"estoy\", \"estoy\", \"estoy\", \"est\\u00e1s\", \"est\\u00e1s\", \"est\\u00e1s\", \"everybody\", \"everybody\", \"everybody\", \"everybody\", \"everybody\", \"excite\", \"excite\", \"excite\", \"excite\", \"excite\", \"eye\", \"eye\", \"eye\", \"eye\", \"eye\", \"feat\", \"feat\", \"feat\", \"feat\", \"feat\", \"feel\", \"feel\", \"feel\", \"feel\", \"feel\", \"fiendin\", \"fiendin\", \"fiendin\", \"flare\", \"flare\", \"freakin\", \"freakin\", \"freakin\", \"freakin\", \"frisk\", \"frisk\", \"frisk\", \"frisk\", \"fuck\", \"fuck\", \"fuck\", \"fuck\", \"fuck\", \"game\", \"game\", \"game\", \"game\", \"game\", \"girl\", \"girl\", \"girl\", \"girl\", \"girl\", \"girlfriend\", \"girlfriend\", \"girlfriend\", \"girlfriend\", \"girlfriend\", \"glitter\", \"glitter\", \"glitter\", \"glitter\", \"glitter\", \"going\", \"going\", \"going\", \"going\", \"going\", \"gomez\", \"gomez\", \"gomez\", \"gomez\", \"gomez\", \"gone\", \"gone\", \"gone\", \"gone\", \"gone\", \"good\", \"good\", \"good\", \"good\", \"good\", \"gotta\", \"gotta\", \"gotta\", \"gotta\", \"gotta\", \"gravy\", \"gravy\", \"gravy\", \"gravy\", \"gravy\", \"groove\", \"groove\", \"groove\", \"groove\", \"groove\", \"guzzle\", \"guzzle\", \"guzzle\", \"guzzle\", \"guzzle\", \"haffi\", \"haffi\", \"haffi\", \"haffi\", \"haffi\", \"halo\", \"halo\", \"halo\", \"halo\", \"halo\", \"hand\", \"hand\", \"hand\", \"hand\", \"hand\", \"happy\", \"happy\", \"happy\", \"happy\", \"happy\", \"hard\", \"hard\", \"hard\", \"hard\", \"hard\", \"head\", \"head\", \"head\", \"head\", \"head\", \"heals\", \"heals\", \"heals\", \"heals\", \"heart\", \"heart\", \"heart\", \"heart\", \"heart\", \"hold\", \"hold\", \"hold\", \"hold\", \"hold\", \"home\", \"home\", \"home\", \"home\", \"home\", \"homeless\", \"homeless\", \"homeless\", \"homeless\", \"homeless\", \"hook\", \"hook\", \"hook\", \"hook\", \"hook\", \"hopeless\", \"hopeless\", \"hopeless\", \"hopeless\", \"hopeless\", \"hotline\", \"hotline\", \"hotline\", \"hotter\", \"hotter\", \"hotter\", \"hotter\", \"hotter\", \"ibiza\", \"ibiza\", \"ibiza\", \"ibiza\", \"infinity\", \"infinity\", \"infinity\", \"infinity\", \"infinity\", \"inner\", \"inner\", \"inner\", \"inner\", \"inner\", \"intervention\", \"intervention\", \"intervention\", \"jeezy\", \"jeezy\", \"jeezy\", \"jeezy\", \"jeezy\", \"jersey\", \"jersey\", \"jersey\", \"jersey\", \"jjjust\", \"jjjust\", \"jjjust\", \"jjjust\", \"jukebox\", \"jukebox\", \"jukebox\", \"jukebox\", \"july\", \"july\", \"july\", \"july\", \"july\", \"jump\", \"jump\", \"jump\", \"jump\", \"jump\", \"june\", \"june\", \"june\", \"june\", \"june\", \"kansa\", \"kansa\", \"kansa\", \"kill\", \"kill\", \"kill\", \"kill\", \"kill\", \"kindness\", \"kindness\", \"kindness\", \"kindness\", \"kindness\", \"king\", \"king\", \"king\", \"king\", \"king\", \"kiss\", \"kiss\", \"kiss\", \"kiss\", \"kiss\", \"lady\", \"lady\", \"lady\", \"lady\", \"lady\", \"learn\", \"learn\", \"learn\", \"learn\", \"learn\", \"leatherstudded\", \"leaving\", \"leaving\", \"leaving\", \"leaving\", \"leaving\", \"life\", \"life\", \"life\", \"life\", \"life\", \"light\", \"light\", \"light\", \"light\", \"light\", \"lighter\", \"lighter\", \"lighter\", \"lighter\", \"lighter\", \"little\", \"little\", \"little\", \"little\", \"little\", \"live\", \"live\", \"live\", \"live\", \"live\", \"long\", \"long\", \"long\", \"long\", \"long\", \"look\", \"look\", \"look\", \"look\", \"look\", \"looking\", \"looking\", \"looking\", \"looking\", \"looking\", \"love\", \"love\", \"love\", \"love\", \"love\", \"loving\", \"loving\", \"loving\", \"loving\", \"loving\", \"lyric\", \"lyric\", \"lyric\", \"lyric\", \"lyric\", \"make\", \"make\", \"make\", \"make\", \"make\", \"malone\", \"malone\", \"malone\", \"malone\", \"malone\", \"mean\", \"mean\", \"mean\", \"mean\", \"mean\", \"merry\", \"merry\", \"merry\", \"merry\", \"merry\", \"minaj\", \"minaj\", \"minaj\", \"minaj\", \"minaj\", \"mind\", \"mind\", \"mind\", \"mind\", \"mind\", \"mister\", \"mister\", \"mister\", \"mister\", \"mister\", \"mistress\", \"mistress\", \"mistress\", \"mistress\", \"mistress\", \"mmmmm\", \"mmmmm\", \"mmmmm\", \"mmmmm\", \"mmmmm\", \"money\", \"money\", \"money\", \"money\", \"money\", \"murderer\", \"murderer\", \"murderer\", \"murderer\", \"murderer\", \"music\", \"music\", \"music\", \"music\", \"music\", \"mwah\", \"mwah\", \"mwah\", \"mwah\", \"mwah\", \"nanana\", \"nanana\", \"nanana\", \"nanana\", \"nanana\", \"nananana\", \"nananana\", \"nananana\", \"nananana\", \"nananana\", \"napalm\", \"napalm\", \"need\", \"need\", \"need\", \"need\", \"need\", \"neon\", \"neon\", \"neon\", \"neon\", \"neon\", \"nicest\", \"nicest\", \"nicest\", \"nicest\", \"nicki\", \"nicki\", \"nicki\", \"nicki\", \"nicki\", \"nigga\", \"nigga\", \"nigga\", \"nigga\", \"nigga\", \"night\", \"night\", \"night\", \"night\", \"night\", \"north\", \"north\", \"north\", \"north\", \"north\", \"nostalgia\", \"nostalgia\", \"nostalgia\", \"nostalgia\", \"numb\", \"numb\", \"numb\", \"numb\", \"numb\", \"oath\", \"oath\", \"oath\", \"oath\", \"october\", \"october\", \"october\", \"october\", \"october\", \"ohoh\", \"ohoh\", \"ohoh\", \"ohoh\", \"ohoh\", \"ohohohoh\", \"ohohohoh\", \"ohohohoh\", \"ohohohoh\", \"ohohohoh\", \"oven\", \"oven\", \"oven\", \"oxygen\", \"oxygen\", \"oxygen\", \"pedestal\", \"pedestal\", \"pedestal\", \"pedestal\", \"pedestal\", \"people\", \"people\", \"people\", \"people\", \"people\", \"perfectly\", \"perfectly\", \"perfectly\", \"perfectly\", \"perfectly\", \"philadelphia\", \"philadelphia\", \"philadelphia\", \"philadelphia\", \"physical\", \"physical\", \"physical\", \"physical\", \"physical\", \"pittsburgh\", \"pittsburgh\", \"pittsburgh\", \"pittsburgh\", \"place\", \"place\", \"place\", \"place\", \"place\", \"play\", \"play\", \"play\", \"play\", \"play\", \"post\", \"post\", \"post\", \"post\", \"post\", \"preparing\", \"preparing\", \"promised\", \"promised\", \"promised\", \"promised\", \"promised\", \"puth\", \"puth\", \"puth\", \"puth\", \"puth\", \"rained\", \"rained\", \"rainin\", \"rainin\", \"rainin\", \"rainin\", \"rainin\", \"raining\", \"raining\", \"raining\", \"raining\", \"raining\", \"raraahahah\", \"raraahahah\", \"raraahahah\", \"rare\", \"rare\", \"rare\", \"rare\", \"rare\", \"ray\", \"ray\", \"ray\", \"ready\", \"ready\", \"ready\", \"ready\", \"ready\", \"real\", \"real\", \"real\", \"real\", \"real\", \"reason\", \"reason\", \"reason\", \"reason\", \"reason\", \"refuse\", \"refuse\", \"refuse\", \"refuse\", \"refuse\", \"rehab\", \"rehab\", \"rehab\", \"rehab\", \"rehab\", \"reign\", \"reign\", \"reign\", \"reign\", \"released\", \"released\", \"released\", \"released\", \"released\", \"reluctantly\", \"replay\", \"replay\", \"replay\", \"replay\", \"replay\", \"revival\", \"revival\", \"revival\", \"rhythm\", \"rhythm\", \"rhythm\", \"rhythm\", \"rhythm\", \"ride\", \"ride\", \"ride\", \"ride\", \"ride\", \"right\", \"right\", \"right\", \"right\", \"right\", \"righteous\", \"righteous\", \"righteous\", \"righteous\", \"rihanna\", \"rihanna\", \"rihanna\", \"rihanna\", \"rihanna\", \"river\", \"river\", \"river\", \"river\", \"river\", \"rockin\", \"rockin\", \"rockin\", \"rockin\", \"rockin\", \"rocking\", \"rocking\", \"rocking\", \"rocking\", \"rocking\", \"rockstar\", \"rockstar\", \"rockstar\", \"rockstar\", \"rockstar\", \"rom\", \"rom\", \"rom\", \"romama\", \"romama\", \"romama\", \"romama\", \"romance\", \"romance\", \"romance\", \"romance\", \"romance\", \"rotation\", \"rotation\", \"rotation\", \"rotation\", \"rude\", \"rude\", \"rude\", \"rude\", \"runway\", \"runway\", \"runway\", \"runway\", \"runway\", \"said\", \"said\", \"said\", \"said\", \"said\", \"selena\", \"selena\", \"selena\", \"selena\", \"selena\", \"september\", \"september\", \"september\", \"september\", \"september\", \"shake\", \"shake\", \"shake\", \"shake\", \"shake\", \"shield\", \"shield\", \"shield\", \"shield\", \"shine\", \"shine\", \"shine\", \"shine\", \"shine\", \"shit\", \"shit\", \"shit\", \"shit\", \"shit\", \"shtick\", \"sick\", \"sick\", \"sick\", \"sick\", \"sick\", \"sixinch\", \"sixinch\", \"sixinch\", \"skrrt\", \"skrrt\", \"skrrt\", \"skrrt\", \"skrrt\", \"slay\", \"slay\", \"slay\", \"slay\", \"slow\", \"slow\", \"slow\", \"slow\", \"slow\", \"smokin\", \"smokin\", \"smokin\", \"smokin\", \"smokin\", \"song\", \"song\", \"song\", \"song\", \"song\", \"spit\", \"spit\", \"spit\", \"spit\", \"spit\", \"spoil\", \"spoil\", \"spoil\", \"spoil\", \"stalker\", \"stalker\", \"stalker\", \"stalker\", \"stalker\", \"stay\", \"stay\", \"stay\", \"stay\", \"stay\", \"stop\", \"stop\", \"stop\", \"stop\", \"stop\", \"street\", \"street\", \"street\", \"street\", \"street\", \"stupid\", \"stupid\", \"stupid\", \"stupid\", \"stupid\", \"stylin\", \"stylin\", \"stylin\", \"stylin\", \"stylin\", \"swift\", \"swift\", \"swift\", \"swift\", \"swift\", \"swish\", \"swish\", \"swish\", \"swish\", \"swish\", \"sympathize\", \"sympathize\", \"sympathize\", \"talker\", \"talker\", \"talker\", \"taylor\", \"taylor\", \"taylor\", \"taylor\", \"taylor\", \"tell\", \"tell\", \"tell\", \"tell\", \"tell\", \"terrified\", \"terrified\", \"terrified\", \"terrified\", \"thang\", \"thang\", \"thang\", \"thang\", \"thang\", \"thank\", \"thank\", \"thank\", \"thank\", \"thank\", \"thing\", \"thing\", \"thing\", \"thing\", \"thing\", \"think\", \"think\", \"think\", \"think\", \"think\", \"thought\", \"thought\", \"thought\", \"thought\", \"thought\", \"time\", \"time\", \"time\", \"time\", \"time\", \"told\", \"told\", \"told\", \"told\", \"told\", \"toll\", \"toll\", \"toll\", \"toll\", \"tonight\", \"tonight\", \"tonight\", \"tonight\", \"tonight\", \"tragic\", \"tragic\", \"tragic\", \"tragic\", \"tragic\", \"trigger\", \"trigger\", \"trigger\", \"trigger\", \"trigger\", \"trouble\", \"trouble\", \"trouble\", \"trouble\", \"trouble\", \"turn\", \"turn\", \"turn\", \"turn\", \"turn\", \"twerk\", \"twerk\", \"twerk\", \"twerk\", \"twerk\", \"typical\", \"typical\", \"typical\", \"typical\", \"umbrella\", \"umbrella\", \"umbrella\", \"umbrella\", \"umbrella\", \"unfaithful\", \"unfaithful\", \"unfaithful\", \"universe\", \"universe\", \"universe\", \"universe\", \"universe\", \"vertigo\", \"wait\", \"wait\", \"wait\", \"wait\", \"wait\", \"walker\", \"walker\", \"walker\", \"walker\", \"walker\", \"want\", \"want\", \"want\", \"want\", \"want\", \"wantin\", \"wantin\", \"wantin\", \"wantin\", \"wantin\", \"warmth\", \"warmth\", \"warmth\", \"warmth\", \"washington\", \"washington\", \"washington\", \"washington\", \"watch\", \"watch\", \"watch\", \"watch\", \"watch\", \"william\", \"william\", \"william\", \"william\", \"william\", \"willing\", \"willing\", \"willing\", \"willing\", \"willing\", \"wish\", \"wish\", \"wish\", \"wish\", \"wish\", \"witch\", \"witch\", \"witch\", \"witch\", \"witch\", \"wood\", \"wood\", \"wood\", \"wood\", \"wood\", \"woohoo\", \"woohoo\", \"woohoo\", \"woohoo\", \"woohoo\", \"work\", \"work\", \"work\", \"work\", \"work\", \"world\", \"world\", \"world\", \"world\", \"world\", \"york\", \"york\", \"york\", \"york\", \"york\", \"young\", \"young\", \"young\", \"young\", \"young\"]}, \"R\": 30, \"lambda.step\": 0.01, \"plot.opts\": {\"xlab\": \"PC1\", \"ylab\": \"PC2\"}, \"topic.order\": [1, 3, 4, 2, 5]};\n",
       "\n",
       "function LDAvis_load_lib(url, callback){\n",
       "  var s = document.createElement('script');\n",
       "  s.src = url;\n",
       "  s.async = true;\n",
       "  s.onreadystatechange = s.onload = callback;\n",
       "  s.onerror = function(){console.warn(\"failed to load library \" + url);};\n",
       "  document.getElementsByTagName(\"head\")[0].appendChild(s);\n",
       "}\n",
       "\n",
       "if(typeof(LDAvis) !== \"undefined\"){\n",
       "   // already loaded: just create the visualization\n",
       "   !function(LDAvis){\n",
       "       new LDAvis(\"#\" + \"ldavis_el1626021441957227044625652694\", ldavis_el1626021441957227044625652694_data);\n",
       "   }(LDAvis);\n",
       "}else if(typeof define === \"function\" && define.amd){\n",
       "   // require.js is available: use it to load d3/LDAvis\n",
       "   require.config({paths: {d3: \"https://d3js.org/d3.v5\"}});\n",
       "   require([\"d3\"], function(d3){\n",
       "      window.d3 = d3;\n",
       "      LDAvis_load_lib(\"https://cdn.jsdelivr.net/gh/bmabey/pyLDAvis@3.3.1/pyLDAvis/js/ldavis.v3.0.0.js\", function(){\n",
       "        new LDAvis(\"#\" + \"ldavis_el1626021441957227044625652694\", ldavis_el1626021441957227044625652694_data);\n",
       "      });\n",
       "    });\n",
       "}else{\n",
       "    // require.js not available: dynamically load d3 & LDAvis\n",
       "    LDAvis_load_lib(\"https://d3js.org/d3.v5.js\", function(){\n",
       "         LDAvis_load_lib(\"https://cdn.jsdelivr.net/gh/bmabey/pyLDAvis@3.3.1/pyLDAvis/js/ldavis.v3.0.0.js\", function(){\n",
       "                 new LDAvis(\"#\" + \"ldavis_el1626021441957227044625652694\", ldavis_el1626021441957227044625652694_data);\n",
       "            })\n",
       "         });\n",
       "}\n",
       "</script>"
      ],
      "text/plain": [
       "<IPython.core.display.HTML object>"
      ]
     },
     "execution_count": 14,
     "metadata": {},
     "output_type": "execute_result"
    }
   ],
   "source": [
    "### Download the needed modules in order to visualize and analyze the predicted topics\n",
    "\n",
    "%matplotlib inline\n",
    "import pyLDAvis\n",
    "import pyLDAvis.gensim_models as gensimvis\n",
    "vis = gensimvis.prepare(topic_model=lda_model, corpus=bow_corpus, dictionary=dictionary)\n",
    "pyLDAvis.enable_notebook()\n",
    "pyLDAvis.display(vis)"
   ]
  },
  {
   "cell_type": "code",
   "execution_count": 15,
   "id": "db74242f",
   "metadata": {},
   "outputs": [],
   "source": [
    "### This saves the above image \n",
    "\n",
    "vis_data = gensimvis.prepare(lda_model, bow_corpus, dictionary)\n",
    "pyLDAvis.save_html(vis_data, 'topic_output.html')"
   ]
  },
  {
   "cell_type": "code",
   "execution_count": null,
   "id": "c84f651b",
   "metadata": {},
   "outputs": [],
   "source": []
  }
 ],
 "metadata": {
  "kernelspec": {
   "display_name": "Python 3 (ipykernel)",
   "language": "python",
   "name": "python3"
  },
  "language_info": {
   "codemirror_mode": {
    "name": "ipython",
    "version": 3
   },
   "file_extension": ".py",
   "mimetype": "text/x-python",
   "name": "python",
   "nbconvert_exporter": "python",
   "pygments_lexer": "ipython3",
   "version": "3.9.7"
  }
 },
 "nbformat": 4,
 "nbformat_minor": 5
}
